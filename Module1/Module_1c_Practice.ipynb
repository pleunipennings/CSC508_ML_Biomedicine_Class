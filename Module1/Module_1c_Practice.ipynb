{
  "nbformat": 4,
  "nbformat_minor": 0,
  "metadata": {
    "colab": {
      "provenance": [],
      "include_colab_link": true
    },
    "kernelspec": {
      "name": "python3",
      "display_name": "Python 3"
    },
    "language_info": {
      "name": "python"
    }
  },
  "cells": [
    {
      "cell_type": "markdown",
      "metadata": {
        "id": "view-in-github",
        "colab_type": "text"
      },
      "source": [
        "<a href=\"https://colab.research.google.com/github/pleunipennings/CSC508_ML_Biomedicine_Class/blob/main/Module1/Module_1c_Practice.ipynb\" target=\"_parent\"><img src=\"https://colab.research.google.com/assets/colab-badge.svg\" alt=\"Open In Colab\"/></a>"
      ]
    },
    {
      "cell_type": "markdown",
      "source": [
        "# **Let's make a NEW Decision Tree for Summer 2021 and improve our predictions!**\n",
        "\n",
        "In order to expedite the making of the NEW Decision Tree, we can skip a few steps, and only copy-paste the required lines of code.\n",
        "\n",
        "*   You DON'T need to copy-paste the comments from the orginal code (The green text that is preceded by \"#\").\n",
        "*   Follow instead the instructions written as a comment in this following exercise to create a NEW Decision Tree for Summer 2021 Data.\n",
        "\n",
        "### **Walkthrough Solution:**\n",
        "If You feel stuck on this exercise feel free to follow the video walkthrough below by **Florentine**"
      ],
      "metadata": {
        "id": "e_d4cKv1aEx_"
      }
    },
    {
      "cell_type": "code",
      "execution_count": null,
      "metadata": {
        "colab": {
          "base_uri": "https://localhost:8080/",
          "height": 445
        },
        "id": "cBWn2r8mZ9aN",
        "outputId": "f36541cd-3098-4f4d-ca15-041cae8ef84c"
      },
      "outputs": [
        {
          "output_type": "execute_result",
          "data": {
            "text/plain": [
              "<IPython.core.display.HTML object>"
            ],
            "text/html": [
              "<iframe src=\"https://player.vimeo.com/video/714289066?title=0&byline=0&portrait=0\" width=\"700\" height=\"394\" frameborder=\"0\" webkitallowfullscreen mozallowfullscreen allowfullscreen></iframe><p><a href=\"https://vimeo.com/714289066\">Exercise Video Walkthrough</a> from <a href=\"https://vimeo.com/showcase/9557969/video/714289066\">Introduction to Machine Learning: Decision Trees</a> on <a href=\"https://vimeo.com\">Vimeo</a>.</p>"
            ]
          },
          "metadata": {},
          "execution_count": 1
        }
      ],
      "source": [
        "## Exercise Video Walkthrough with Florentine\n",
        "# If you need to adjust the size, do so using width and height parameters in the code below:\n",
        "\n",
        "from IPython.display import HTML\n",
        "HTML('<iframe src=\"https://player.vimeo.com/video/714289066?title=0&byline=0&portrait=0\" width=\"700\" height=\"394\" frameborder=\"0\" webkitallowfullscreen mozallowfullscreen allowfullscreen></iframe><p><a href=\"https://vimeo.com/714289066\">Exercise Video Walkthrough</a> from <a href=\"https://vimeo.com/showcase/9557969/video/714289066\">Introduction to Machine Learning: Decision Trees</a> on <a href=\"https://vimeo.com\">Vimeo</a>.</p>')"
      ]
    },
    {
      "cell_type": "markdown",
      "source": [
        "## **1) Repeat Step 1 (Importing Necessary Packages)**"
      ],
      "metadata": {
        "id": "x2nTwddXaLCN"
      }
    },
    {
      "cell_type": "code",
      "source": [],
      "metadata": {
        "id": "OHYz22PRaMc3"
      },
      "execution_count": null,
      "outputs": []
    },
    {
      "cell_type": "markdown",
      "source": [
        "## **2) Repeat Step 2A (Loading 2021 Training Data)**\n",
        "##### **NOTES: When you copy-paste code, don't forget to change 2020 into 2021, everytime you see it, including the links!!**"
      ],
      "metadata": {
        "id": "aa2Ln3AoaO74"
      }
    },
    {
      "cell_type": "code",
      "source": [],
      "metadata": {
        "id": "zeYPxUoDaPvN"
      },
      "execution_count": null,
      "outputs": []
    },
    {
      "cell_type": "markdown",
      "source": [
        "## **3) Repeat Step 3A (Separate Training Data into LABEL and FEATURES)**\n",
        "SKIP:\n",
        "- Steps 3B and 3C, since this step was only done to allow you to see what the labels look like once we separated it from our main training data.\n",
        "\n",
        "##### **NOTE: When you copy-paste code, don't forget to change 2020 into 2021, everytime you see it!!**"
      ],
      "metadata": {
        "id": "9Kjqy5KHaXar"
      }
    },
    {
      "cell_type": "code",
      "source": [],
      "metadata": {
        "id": "KtuHJNGNaYSV"
      },
      "execution_count": null,
      "outputs": []
    },
    {
      "cell_type": "markdown",
      "source": [
        "## **4) Repeat steps 4A and 4B (Create your Decision Tree and Train it!)**\n",
        "\n",
        "##### **NOTE: When you copy-paste code, don't forget to change 2020 into 2021, everytime you see it!!**"
      ],
      "metadata": {
        "id": "CU74nPQZaYov"
      }
    },
    {
      "cell_type": "code",
      "source": [],
      "metadata": {
        "id": "WHk-GZCAabDJ"
      },
      "execution_count": null,
      "outputs": []
    },
    {
      "cell_type": "markdown",
      "source": [
        "## **5) Repeat step 5 (Visualize your 2021 Decision Tree)**\n",
        "\n",
        "##### **NOTE: When you copy-paste code, don't forget to change 2020 into 2021, everytime you see it!!**"
      ],
      "metadata": {
        "id": "6dJmPA-jabii"
      }
    },
    {
      "cell_type": "code",
      "source": [],
      "metadata": {
        "id": "QMBg1K61aeBj"
      },
      "execution_count": null,
      "outputs": []
    },
    {
      "cell_type": "markdown",
      "source": [
        "## **6) Repeat step 6A, 6B, 6C (Load Testing Data and make your Predictions)**\n",
        "\n",
        "##### **NOTE: When you copy-paste code, don't forget to change 2020 into 2021, everytime you see it!!**"
      ],
      "metadata": {
        "id": "XgEXXp52af2l"
      }
    },
    {
      "cell_type": "code",
      "source": [],
      "metadata": {
        "id": "aqVU5RhcagpD"
      },
      "execution_count": null,
      "outputs": []
    },
    {
      "cell_type": "markdown",
      "source": [
        "## **7) Repeat step 7A, 7B (Check the Accuracy of the Predictions of the new Model Created)**\n",
        "\n",
        "##### **NOTE: When you copy-paste code, don't forget to change 2020 into 2021, everytime you see it!!**"
      ],
      "metadata": {
        "id": "ukJZmnVTaiel"
      }
    },
    {
      "cell_type": "code",
      "source": [],
      "metadata": {
        "id": "Uhk8R1ROai6Z"
      },
      "execution_count": null,
      "outputs": []
    },
    {
      "cell_type": "markdown",
      "source": [
        "## 8) **Compare and Reflect**\n",
        "\n",
        "A. Describe at least one main difference between the decision tree that was created with 2021 data and the 2020 decision tree.\n",
        "\n",
        "B. List at least three things you learned from the exercise and three things you'd like know more about."
      ],
      "metadata": {
        "id": "6a9o5Iq_akoL"
      }
    },
    {
      "cell_type": "markdown",
      "source": [
        "8) Answer Here:\n",
        "\n",
        "\n"
      ],
      "metadata": {
        "id": "G3DHccf9Nu-b"
      }
    },
    {
      "cell_type": "markdown",
      "source": [
        "## **9) Extra: (Calculate RMSE and create Aggregate error histograms)**\n",
        "\n",
        "Compare the performance between the model you just created in the practice session, with the old model performance by calculating the RMSE for both and creating an aggregate errors histogram depicting both models."
      ],
      "metadata": {
        "id": "MdsVoleFNUbK"
      }
    },
    {
      "cell_type": "code",
      "source": [
        "#  Here you will need to import one of the files you saved in Google drive in the first notebook"
      ],
      "metadata": {
        "id": "chz8mVicalIN"
      },
      "execution_count": null,
      "outputs": []
    }
  ]
}
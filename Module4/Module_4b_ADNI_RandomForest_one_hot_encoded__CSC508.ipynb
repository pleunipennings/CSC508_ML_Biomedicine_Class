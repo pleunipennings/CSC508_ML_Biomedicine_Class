{
  "nbformat": 4,
  "nbformat_minor": 0,
  "metadata": {
    "colab": {
      "provenance": [],
      "toc_visible": true,
      "include_colab_link": true
    },
    "kernelspec": {
      "name": "python3",
      "display_name": "Python 3"
    },
    "language_info": {
      "name": "python"
    }
  },
  "cells": [
    {
      "cell_type": "markdown",
      "metadata": {
        "id": "view-in-github",
        "colab_type": "text"
      },
      "source": [
        "<a href=\"https://colab.research.google.com/github/pleunipennings/CSC508_ML_Biomedicine_Class/blob/main/Module4/Module_4b_ADNI_RandomForest_one_hot_encoded__CSC508.ipynb\" target=\"_parent\"><img src=\"https://colab.research.google.com/assets/colab-badge.svg\" alt=\"Open In Colab\"/></a>"
      ]
    },
    {
      "cell_type": "markdown",
      "metadata": {
        "id": "c8DIh94Mkokf"
      },
      "source": [
        "#Working with the ADNI PatData data and creating a Random Forest model for predicting Alzheimer's status."
      ]
    },
    {
      "cell_type": "markdown",
      "metadata": {
        "id": "Eypv_1yPXe2X"
      },
      "source": [
        "# 1) Opening the file location and loading libraries\n",
        "Importing all necessary libraries to create our models\n",
        "\n"
      ]
    },
    {
      "cell_type": "code",
      "metadata": {
        "id": "F48UupL7Lt5S"
      },
      "source": [
        "# Data cleaning and wrangling packages\n",
        "import pandas as pd\n",
        "import numpy as np\n",
        "from sklearn.model_selection import train_test_split\n",
        "from sklearn.preprocessing import OneHotEncoder\n",
        "from sklearn.compose import make_column_transformer\n",
        "\n",
        "# Machine learning model building packages and evaluating their performance\n",
        "from sklearn.ensemble import RandomForestClassifier\n",
        "from sklearn import metrics\n",
        "\n",
        "# Plots and graphs packages\n",
        "import matplotlib.pyplot as plt\n",
        "from sklearn.metrics import ConfusionMatrixDisplay\n",
        "import seaborn as sns\n",
        "\n",
        "# packages to save your work in google colab\n",
        "from google.colab import files"
      ],
      "execution_count": null,
      "outputs": []
    },
    {
      "cell_type": "markdown",
      "metadata": {
        "id": "ZZvCupM1WwFM"
      },
      "source": [
        "Here you will read in data from a file called PatData.csv. I (Pleuni Pennings) created that file as a summary of a larger file called \"TADPOLE_D1_D2.csv.\" This has electronic health record data for every patient and this dataset contains all the variables mentioned in our course text plus the other ones and it is measured across several timepoint. **PatData.csv** is a summary, with just one time point per patient and this is the dataset we will be working on in notebook."
      ]
    },
    {
      "cell_type": "code",
      "metadata": {
        "id": "9XRGmk1gGSxD"
      },
      "source": [
        "url = \"https://raw.githubusercontent.com/pleunipennings/CSC508Data/main/PatData.csv\"\n",
        "data = pd.read_csv(url)"
      ],
      "execution_count": null,
      "outputs": []
    },
    {
      "cell_type": "markdown",
      "metadata": {
        "id": "hz_hcncJb-st"
      },
      "source": [
        "# 2) Having a first look at the data\n",
        "\n",
        "As usual we should get into the practice of taking a look at how your data is structured, what is the dimention of our data, which variables are our features and which is a label. For the purpose of this notebook, it is important for us to check what variables we would need to one-hot encode."
      ]
    },
    {
      "cell_type": "code",
      "metadata": {
        "id": "qRVK5s1qfShX",
        "outputId": "0d2db48b-208e-45a6-9146-603b66ee48e1",
        "colab": {
          "base_uri": "https://localhost:8080/"
        }
      },
      "source": [
        "# Checking how big is our data\n",
        "data.shape"
      ],
      "execution_count": null,
      "outputs": [
        {
          "output_type": "execute_result",
          "data": {
            "text/plain": [
              "(1737, 16)"
            ]
          },
          "metadata": {},
          "execution_count": 3
        }
      ]
    },
    {
      "cell_type": "code",
      "metadata": {
        "id": "CYesLoZ4c4qO",
        "outputId": "bdcd51ff-49ef-4b44-c731-d8b6b68b5e4a",
        "colab": {
          "base_uri": "https://localhost:8080/"
        }
      },
      "source": [
        "# Looking at each of the variables column names\n",
        "data.columns"
      ],
      "execution_count": null,
      "outputs": [
        {
          "output_type": "execute_result",
          "data": {
            "text/plain": [
              "Index(['PTID', 'AGE', 'PTGENDER', 'PTEDUCAT', 'PTETHCAT', 'PTRACCAT',\n",
              "       'PTMARRY', 'APOE4', 'DX', 'Ventricles', 'Hippocampus', 'WholeBrain',\n",
              "       'Entorhinal', 'Fusiform', 'MidTemp', 'ICV'],\n",
              "      dtype='object')"
            ]
          },
          "metadata": {},
          "execution_count": 4
        }
      ]
    },
    {
      "cell_type": "code",
      "metadata": {
        "id": "nsHfuXTljnVx",
        "outputId": "24ece086-39a0-4273-e702-bd1d1d216777",
        "colab": {
          "base_uri": "https://localhost:8080/",
          "height": 312
        }
      },
      "source": [
        "# Checking a couple of rows of our data to see what each column data contains\n",
        "data.head()"
      ],
      "execution_count": null,
      "outputs": [
        {
          "output_type": "execute_result",
          "data": {
            "text/plain": [
              "         PTID   AGE PTGENDER  PTEDUCAT         PTETHCAT PTRACCAT  PTMARRY  \\\n",
              "0  002_S_0295  84.8     Male        18  Not Hisp/Latino    White  Married   \n",
              "1  002_S_0413  76.3   Female        16  Not Hisp/Latino    White  Married   \n",
              "2  002_S_0559  79.3     Male        16  Not Hisp/Latino    White  Widowed   \n",
              "3  002_S_0619  77.5     Male        12  Not Hisp/Latino    White  Married   \n",
              "4  002_S_0685  89.6   Female        16  Not Hisp/Latino    White  Married   \n",
              "\n",
              "   APOE4        DX     Ventricles  Hippocampus    WholeBrain   Entorhinal  \\\n",
              "0    1.0        NL   43332.500000  6805.125000  1.071568e+06  3752.625000   \n",
              "1    0.0        NL   31936.454545  6824.636364  1.055413e+06  4131.090909   \n",
              "2    1.0        NL   38410.666667  7496.666667  1.092807e+06  3998.333333   \n",
              "3    2.0  Dementia  120529.500000  5812.000000  1.093932e+06  2773.000000   \n",
              "4    0.0        NL   40921.571429  7063.250000  9.800458e+05  3894.375000   \n",
              "\n",
              "       Fusiform       MidTemp           ICV  \n",
              "0  17693.875000  19420.125000  1.649602e+06  \n",
              "1  20095.909091  20235.545455  1.600009e+06  \n",
              "2  18993.000000  22226.000000  1.703968e+06  \n",
              "3  20675.000000  19959.000000  2.070530e+06  \n",
              "4  14152.250000  18133.625000  1.521331e+06  "
            ],
            "text/html": [
              "\n",
              "  <div id=\"df-84b93fc2-b632-4be3-bd91-67606c4776b6\" class=\"colab-df-container\">\n",
              "    <div>\n",
              "<style scoped>\n",
              "    .dataframe tbody tr th:only-of-type {\n",
              "        vertical-align: middle;\n",
              "    }\n",
              "\n",
              "    .dataframe tbody tr th {\n",
              "        vertical-align: top;\n",
              "    }\n",
              "\n",
              "    .dataframe thead th {\n",
              "        text-align: right;\n",
              "    }\n",
              "</style>\n",
              "<table border=\"1\" class=\"dataframe\">\n",
              "  <thead>\n",
              "    <tr style=\"text-align: right;\">\n",
              "      <th></th>\n",
              "      <th>PTID</th>\n",
              "      <th>AGE</th>\n",
              "      <th>PTGENDER</th>\n",
              "      <th>PTEDUCAT</th>\n",
              "      <th>PTETHCAT</th>\n",
              "      <th>PTRACCAT</th>\n",
              "      <th>PTMARRY</th>\n",
              "      <th>APOE4</th>\n",
              "      <th>DX</th>\n",
              "      <th>Ventricles</th>\n",
              "      <th>Hippocampus</th>\n",
              "      <th>WholeBrain</th>\n",
              "      <th>Entorhinal</th>\n",
              "      <th>Fusiform</th>\n",
              "      <th>MidTemp</th>\n",
              "      <th>ICV</th>\n",
              "    </tr>\n",
              "  </thead>\n",
              "  <tbody>\n",
              "    <tr>\n",
              "      <th>0</th>\n",
              "      <td>002_S_0295</td>\n",
              "      <td>84.8</td>\n",
              "      <td>Male</td>\n",
              "      <td>18</td>\n",
              "      <td>Not Hisp/Latino</td>\n",
              "      <td>White</td>\n",
              "      <td>Married</td>\n",
              "      <td>1.0</td>\n",
              "      <td>NL</td>\n",
              "      <td>43332.500000</td>\n",
              "      <td>6805.125000</td>\n",
              "      <td>1.071568e+06</td>\n",
              "      <td>3752.625000</td>\n",
              "      <td>17693.875000</td>\n",
              "      <td>19420.125000</td>\n",
              "      <td>1.649602e+06</td>\n",
              "    </tr>\n",
              "    <tr>\n",
              "      <th>1</th>\n",
              "      <td>002_S_0413</td>\n",
              "      <td>76.3</td>\n",
              "      <td>Female</td>\n",
              "      <td>16</td>\n",
              "      <td>Not Hisp/Latino</td>\n",
              "      <td>White</td>\n",
              "      <td>Married</td>\n",
              "      <td>0.0</td>\n",
              "      <td>NL</td>\n",
              "      <td>31936.454545</td>\n",
              "      <td>6824.636364</td>\n",
              "      <td>1.055413e+06</td>\n",
              "      <td>4131.090909</td>\n",
              "      <td>20095.909091</td>\n",
              "      <td>20235.545455</td>\n",
              "      <td>1.600009e+06</td>\n",
              "    </tr>\n",
              "    <tr>\n",
              "      <th>2</th>\n",
              "      <td>002_S_0559</td>\n",
              "      <td>79.3</td>\n",
              "      <td>Male</td>\n",
              "      <td>16</td>\n",
              "      <td>Not Hisp/Latino</td>\n",
              "      <td>White</td>\n",
              "      <td>Widowed</td>\n",
              "      <td>1.0</td>\n",
              "      <td>NL</td>\n",
              "      <td>38410.666667</td>\n",
              "      <td>7496.666667</td>\n",
              "      <td>1.092807e+06</td>\n",
              "      <td>3998.333333</td>\n",
              "      <td>18993.000000</td>\n",
              "      <td>22226.000000</td>\n",
              "      <td>1.703968e+06</td>\n",
              "    </tr>\n",
              "    <tr>\n",
              "      <th>3</th>\n",
              "      <td>002_S_0619</td>\n",
              "      <td>77.5</td>\n",
              "      <td>Male</td>\n",
              "      <td>12</td>\n",
              "      <td>Not Hisp/Latino</td>\n",
              "      <td>White</td>\n",
              "      <td>Married</td>\n",
              "      <td>2.0</td>\n",
              "      <td>Dementia</td>\n",
              "      <td>120529.500000</td>\n",
              "      <td>5812.000000</td>\n",
              "      <td>1.093932e+06</td>\n",
              "      <td>2773.000000</td>\n",
              "      <td>20675.000000</td>\n",
              "      <td>19959.000000</td>\n",
              "      <td>2.070530e+06</td>\n",
              "    </tr>\n",
              "    <tr>\n",
              "      <th>4</th>\n",
              "      <td>002_S_0685</td>\n",
              "      <td>89.6</td>\n",
              "      <td>Female</td>\n",
              "      <td>16</td>\n",
              "      <td>Not Hisp/Latino</td>\n",
              "      <td>White</td>\n",
              "      <td>Married</td>\n",
              "      <td>0.0</td>\n",
              "      <td>NL</td>\n",
              "      <td>40921.571429</td>\n",
              "      <td>7063.250000</td>\n",
              "      <td>9.800458e+05</td>\n",
              "      <td>3894.375000</td>\n",
              "      <td>14152.250000</td>\n",
              "      <td>18133.625000</td>\n",
              "      <td>1.521331e+06</td>\n",
              "    </tr>\n",
              "  </tbody>\n",
              "</table>\n",
              "</div>\n",
              "    <div class=\"colab-df-buttons\">\n",
              "\n",
              "  <div class=\"colab-df-container\">\n",
              "    <button class=\"colab-df-convert\" onclick=\"convertToInteractive('df-84b93fc2-b632-4be3-bd91-67606c4776b6')\"\n",
              "            title=\"Convert this dataframe to an interactive table.\"\n",
              "            style=\"display:none;\">\n",
              "\n",
              "  <svg xmlns=\"http://www.w3.org/2000/svg\" height=\"24px\" viewBox=\"0 -960 960 960\">\n",
              "    <path d=\"M120-120v-720h720v720H120Zm60-500h600v-160H180v160Zm220 220h160v-160H400v160Zm0 220h160v-160H400v160ZM180-400h160v-160H180v160Zm440 0h160v-160H620v160ZM180-180h160v-160H180v160Zm440 0h160v-160H620v160Z\"/>\n",
              "  </svg>\n",
              "    </button>\n",
              "\n",
              "  <style>\n",
              "    .colab-df-container {\n",
              "      display:flex;\n",
              "      gap: 12px;\n",
              "    }\n",
              "\n",
              "    .colab-df-convert {\n",
              "      background-color: #E8F0FE;\n",
              "      border: none;\n",
              "      border-radius: 50%;\n",
              "      cursor: pointer;\n",
              "      display: none;\n",
              "      fill: #1967D2;\n",
              "      height: 32px;\n",
              "      padding: 0 0 0 0;\n",
              "      width: 32px;\n",
              "    }\n",
              "\n",
              "    .colab-df-convert:hover {\n",
              "      background-color: #E2EBFA;\n",
              "      box-shadow: 0px 1px 2px rgba(60, 64, 67, 0.3), 0px 1px 3px 1px rgba(60, 64, 67, 0.15);\n",
              "      fill: #174EA6;\n",
              "    }\n",
              "\n",
              "    .colab-df-buttons div {\n",
              "      margin-bottom: 4px;\n",
              "    }\n",
              "\n",
              "    [theme=dark] .colab-df-convert {\n",
              "      background-color: #3B4455;\n",
              "      fill: #D2E3FC;\n",
              "    }\n",
              "\n",
              "    [theme=dark] .colab-df-convert:hover {\n",
              "      background-color: #434B5C;\n",
              "      box-shadow: 0px 1px 3px 1px rgba(0, 0, 0, 0.15);\n",
              "      filter: drop-shadow(0px 1px 2px rgba(0, 0, 0, 0.3));\n",
              "      fill: #FFFFFF;\n",
              "    }\n",
              "  </style>\n",
              "\n",
              "    <script>\n",
              "      const buttonEl =\n",
              "        document.querySelector('#df-84b93fc2-b632-4be3-bd91-67606c4776b6 button.colab-df-convert');\n",
              "      buttonEl.style.display =\n",
              "        google.colab.kernel.accessAllowed ? 'block' : 'none';\n",
              "\n",
              "      async function convertToInteractive(key) {\n",
              "        const element = document.querySelector('#df-84b93fc2-b632-4be3-bd91-67606c4776b6');\n",
              "        const dataTable =\n",
              "          await google.colab.kernel.invokeFunction('convertToInteractive',\n",
              "                                                    [key], {});\n",
              "        if (!dataTable) return;\n",
              "\n",
              "        const docLinkHtml = 'Like what you see? Visit the ' +\n",
              "          '<a target=\"_blank\" href=https://colab.research.google.com/notebooks/data_table.ipynb>data table notebook</a>'\n",
              "          + ' to learn more about interactive tables.';\n",
              "        element.innerHTML = '';\n",
              "        dataTable['output_type'] = 'display_data';\n",
              "        await google.colab.output.renderOutput(dataTable, element);\n",
              "        const docLink = document.createElement('div');\n",
              "        docLink.innerHTML = docLinkHtml;\n",
              "        element.appendChild(docLink);\n",
              "      }\n",
              "    </script>\n",
              "  </div>\n",
              "\n",
              "\n",
              "<div id=\"df-42020824-8978-4108-b454-efdb3c26a416\">\n",
              "  <button class=\"colab-df-quickchart\" onclick=\"quickchart('df-42020824-8978-4108-b454-efdb3c26a416')\"\n",
              "            title=\"Suggest charts\"\n",
              "            style=\"display:none;\">\n",
              "\n",
              "<svg xmlns=\"http://www.w3.org/2000/svg\" height=\"24px\"viewBox=\"0 0 24 24\"\n",
              "     width=\"24px\">\n",
              "    <g>\n",
              "        <path d=\"M19 3H5c-1.1 0-2 .9-2 2v14c0 1.1.9 2 2 2h14c1.1 0 2-.9 2-2V5c0-1.1-.9-2-2-2zM9 17H7v-7h2v7zm4 0h-2V7h2v10zm4 0h-2v-4h2v4z\"/>\n",
              "    </g>\n",
              "</svg>\n",
              "  </button>\n",
              "\n",
              "<style>\n",
              "  .colab-df-quickchart {\n",
              "      --bg-color: #E8F0FE;\n",
              "      --fill-color: #1967D2;\n",
              "      --hover-bg-color: #E2EBFA;\n",
              "      --hover-fill-color: #174EA6;\n",
              "      --disabled-fill-color: #AAA;\n",
              "      --disabled-bg-color: #DDD;\n",
              "  }\n",
              "\n",
              "  [theme=dark] .colab-df-quickchart {\n",
              "      --bg-color: #3B4455;\n",
              "      --fill-color: #D2E3FC;\n",
              "      --hover-bg-color: #434B5C;\n",
              "      --hover-fill-color: #FFFFFF;\n",
              "      --disabled-bg-color: #3B4455;\n",
              "      --disabled-fill-color: #666;\n",
              "  }\n",
              "\n",
              "  .colab-df-quickchart {\n",
              "    background-color: var(--bg-color);\n",
              "    border: none;\n",
              "    border-radius: 50%;\n",
              "    cursor: pointer;\n",
              "    display: none;\n",
              "    fill: var(--fill-color);\n",
              "    height: 32px;\n",
              "    padding: 0;\n",
              "    width: 32px;\n",
              "  }\n",
              "\n",
              "  .colab-df-quickchart:hover {\n",
              "    background-color: var(--hover-bg-color);\n",
              "    box-shadow: 0 1px 2px rgba(60, 64, 67, 0.3), 0 1px 3px 1px rgba(60, 64, 67, 0.15);\n",
              "    fill: var(--button-hover-fill-color);\n",
              "  }\n",
              "\n",
              "  .colab-df-quickchart-complete:disabled,\n",
              "  .colab-df-quickchart-complete:disabled:hover {\n",
              "    background-color: var(--disabled-bg-color);\n",
              "    fill: var(--disabled-fill-color);\n",
              "    box-shadow: none;\n",
              "  }\n",
              "\n",
              "  .colab-df-spinner {\n",
              "    border: 2px solid var(--fill-color);\n",
              "    border-color: transparent;\n",
              "    border-bottom-color: var(--fill-color);\n",
              "    animation:\n",
              "      spin 1s steps(1) infinite;\n",
              "  }\n",
              "\n",
              "  @keyframes spin {\n",
              "    0% {\n",
              "      border-color: transparent;\n",
              "      border-bottom-color: var(--fill-color);\n",
              "      border-left-color: var(--fill-color);\n",
              "    }\n",
              "    20% {\n",
              "      border-color: transparent;\n",
              "      border-left-color: var(--fill-color);\n",
              "      border-top-color: var(--fill-color);\n",
              "    }\n",
              "    30% {\n",
              "      border-color: transparent;\n",
              "      border-left-color: var(--fill-color);\n",
              "      border-top-color: var(--fill-color);\n",
              "      border-right-color: var(--fill-color);\n",
              "    }\n",
              "    40% {\n",
              "      border-color: transparent;\n",
              "      border-right-color: var(--fill-color);\n",
              "      border-top-color: var(--fill-color);\n",
              "    }\n",
              "    60% {\n",
              "      border-color: transparent;\n",
              "      border-right-color: var(--fill-color);\n",
              "    }\n",
              "    80% {\n",
              "      border-color: transparent;\n",
              "      border-right-color: var(--fill-color);\n",
              "      border-bottom-color: var(--fill-color);\n",
              "    }\n",
              "    90% {\n",
              "      border-color: transparent;\n",
              "      border-bottom-color: var(--fill-color);\n",
              "    }\n",
              "  }\n",
              "</style>\n",
              "\n",
              "  <script>\n",
              "    async function quickchart(key) {\n",
              "      const quickchartButtonEl =\n",
              "        document.querySelector('#' + key + ' button');\n",
              "      quickchartButtonEl.disabled = true;  // To prevent multiple clicks.\n",
              "      quickchartButtonEl.classList.add('colab-df-spinner');\n",
              "      try {\n",
              "        const charts = await google.colab.kernel.invokeFunction(\n",
              "            'suggestCharts', [key], {});\n",
              "      } catch (error) {\n",
              "        console.error('Error during call to suggestCharts:', error);\n",
              "      }\n",
              "      quickchartButtonEl.classList.remove('colab-df-spinner');\n",
              "      quickchartButtonEl.classList.add('colab-df-quickchart-complete');\n",
              "    }\n",
              "    (() => {\n",
              "      let quickchartButtonEl =\n",
              "        document.querySelector('#df-42020824-8978-4108-b454-efdb3c26a416 button');\n",
              "      quickchartButtonEl.style.display =\n",
              "        google.colab.kernel.accessAllowed ? 'block' : 'none';\n",
              "    })();\n",
              "  </script>\n",
              "</div>\n",
              "\n",
              "    </div>\n",
              "  </div>\n"
            ],
            "application/vnd.google.colaboratory.intrinsic+json": {
              "type": "dataframe",
              "variable_name": "data",
              "summary": "{\n  \"name\": \"data\",\n  \"rows\": 1737,\n  \"fields\": [\n    {\n      \"column\": \"PTID\",\n      \"properties\": {\n        \"dtype\": \"string\",\n        \"num_unique_values\": 1737,\n        \"samples\": [\n          \"023_S_0139\",\n          \"130_S_0289\",\n          \"067_S_0077\"\n        ],\n        \"semantic_type\": \"\",\n        \"description\": \"\"\n      }\n    },\n    {\n      \"column\": \"AGE\",\n      \"properties\": {\n        \"dtype\": \"number\",\n        \"std\": 7.19622656664924,\n        \"min\": 54.4,\n        \"max\": 91.4,\n        \"num_unique_values\": 324,\n        \"samples\": [\n          70.2,\n          71.4,\n          63.2\n        ],\n        \"semantic_type\": \"\",\n        \"description\": \"\"\n      }\n    },\n    {\n      \"column\": \"PTGENDER\",\n      \"properties\": {\n        \"dtype\": \"category\",\n        \"num_unique_values\": 2,\n        \"samples\": [\n          \"Female\",\n          \"Male\"\n        ],\n        \"semantic_type\": \"\",\n        \"description\": \"\"\n      }\n    },\n    {\n      \"column\": \"PTEDUCAT\",\n      \"properties\": {\n        \"dtype\": \"number\",\n        \"std\": 2,\n        \"min\": 4,\n        \"max\": 20,\n        \"num_unique_values\": 16,\n        \"samples\": [\n          18,\n          16\n        ],\n        \"semantic_type\": \"\",\n        \"description\": \"\"\n      }\n    },\n    {\n      \"column\": \"PTETHCAT\",\n      \"properties\": {\n        \"dtype\": \"category\",\n        \"num_unique_values\": 3,\n        \"samples\": [\n          \"Not Hisp/Latino\",\n          \"Hisp/Latino\"\n        ],\n        \"semantic_type\": \"\",\n        \"description\": \"\"\n      }\n    },\n    {\n      \"column\": \"PTRACCAT\",\n      \"properties\": {\n        \"dtype\": \"category\",\n        \"num_unique_values\": 7,\n        \"samples\": [\n          \"White\",\n          \"More than one\"\n        ],\n        \"semantic_type\": \"\",\n        \"description\": \"\"\n      }\n    },\n    {\n      \"column\": \"PTMARRY\",\n      \"properties\": {\n        \"dtype\": \"category\",\n        \"num_unique_values\": 5,\n        \"samples\": [\n          \"Widowed\",\n          \"Unknown\"\n        ],\n        \"semantic_type\": \"\",\n        \"description\": \"\"\n      }\n    },\n    {\n      \"column\": \"APOE4\",\n      \"properties\": {\n        \"dtype\": \"number\",\n        \"std\": 0.6662420046975718,\n        \"min\": 0.0,\n        \"max\": 2.0,\n        \"num_unique_values\": 3,\n        \"samples\": [\n          1.0,\n          0.0\n        ],\n        \"semantic_type\": \"\",\n        \"description\": \"\"\n      }\n    },\n    {\n      \"column\": \"DX\",\n      \"properties\": {\n        \"dtype\": \"category\",\n        \"num_unique_values\": 8,\n        \"samples\": [\n          \"Dementia\",\n          \"NL to Dementia\"\n        ],\n        \"semantic_type\": \"\",\n        \"description\": \"\"\n      }\n    },\n    {\n      \"column\": \"Ventricles\",\n      \"properties\": {\n        \"dtype\": \"number\",\n        \"std\": 24024.443868819348,\n        \"min\": 6069.5,\n        \"max\": 151405.5,\n        \"num_unique_values\": 1710,\n        \"samples\": [\n          30131.5714285714,\n          35797.0\n        ],\n        \"semantic_type\": \"\",\n        \"description\": \"\"\n      }\n    },\n    {\n      \"column\": \"Hippocampus\",\n      \"properties\": {\n        \"dtype\": \"number\",\n        \"std\": 1228.095101904589,\n        \"min\": 2894.5,\n        \"max\": 11068.0,\n        \"num_unique_values\": 1634,\n        \"samples\": [\n          5297.5,\n          7065.28571428571\n        ],\n        \"semantic_type\": \"\",\n        \"description\": \"\"\n      }\n    },\n    {\n      \"column\": \"WholeBrain\",\n      \"properties\": {\n        \"dtype\": \"number\",\n        \"std\": 111538.03793239621,\n        \"min\": 661622.5,\n        \"max\": 1486040.0,\n        \"num_unique_values\": 1720,\n        \"samples\": [\n          909011.0,\n          833145.8\n        ],\n        \"semantic_type\": \"\",\n        \"description\": \"\"\n      }\n    },\n    {\n      \"column\": \"Entorhinal\",\n      \"properties\": {\n        \"dtype\": \"number\",\n        \"std\": 779.4488785696485,\n        \"min\": 1143.0,\n        \"max\": 5931.0,\n        \"num_unique_values\": 1570,\n        \"samples\": [\n          3037.4,\n          3663.0\n        ],\n        \"semantic_type\": \"\",\n        \"description\": \"\"\n      }\n    },\n    {\n      \"column\": \"Fusiform\",\n      \"properties\": {\n        \"dtype\": \"number\",\n        \"std\": 2784.2413466196303,\n        \"min\": 8863.66666666667,\n        \"max\": 28637.5,\n        \"num_unique_values\": 1620,\n        \"samples\": [\n          21770.6,\n          20175.6666666667\n        ],\n        \"semantic_type\": \"\",\n        \"description\": \"\"\n      }\n    },\n    {\n      \"column\": \"MidTemp\",\n      \"properties\": {\n        \"dtype\": \"number\",\n        \"std\": 3145.880999368798,\n        \"min\": 8850.33333333333,\n        \"max\": 32189.0,\n        \"num_unique_values\": 1623,\n        \"samples\": [\n          19043.4,\n          19655.5\n        ],\n        \"semantic_type\": \"\",\n        \"description\": \"\"\n      }\n    },\n    {\n      \"column\": \"ICV\",\n      \"properties\": {\n        \"dtype\": \"number\",\n        \"std\": 167195.17315657012,\n        \"min\": 870835.471,\n        \"max\": 2102360.0,\n        \"num_unique_values\": 1732,\n        \"samples\": [\n          1564127.14285714,\n          1671335.71428571\n        ],\n        \"semantic_type\": \"\",\n        \"description\": \"\"\n      }\n    }\n  ]\n}"
            }
          },
          "metadata": {},
          "execution_count": 5
        }
      ]
    },
    {
      "cell_type": "markdown",
      "metadata": {
        "id": "MEzOrudDhkuz"
      },
      "source": [
        "##Task 1: looking at the data\n",
        "\n",
        "a. Each row has data for one patient. How many patients are there in the dataset?\n",
        "\n",
        "b. We are looking at a dataset with just one time point per patient. Why do you\n",
        "think it is useful for an Alzheimer's study to have multiple time points per patient?\n",
        "\n",
        "c. Which of the columns do you think would be important for predicting who has Alzheimer's disease? Pick 2 and explain your choice.\n",
        "\n",
        "d. Which of the columns do you think are not important? Pick 2 and explain."
      ]
    },
    {
      "cell_type": "markdown",
      "metadata": {
        "id": "90IJNt2PXWWI"
      },
      "source": [
        "# 3) Data Cleaning: dealing with missing data\n",
        "Now we have the data, but it is messy, with some missing data. Let's see what columns contain missing data."
      ]
    },
    {
      "cell_type": "code",
      "metadata": {
        "id": "7lkr6NQfsE_o",
        "outputId": "ea906d2b-55fc-4faf-d5e8-c4c1e4bbadfd",
        "colab": {
          "base_uri": "https://localhost:8080/",
          "height": 585
        }
      },
      "source": [
        "# This provides counts of missing values for each column\n",
        "data.isnull().sum()"
      ],
      "execution_count": null,
      "outputs": [
        {
          "output_type": "execute_result",
          "data": {
            "text/plain": [
              "PTID            0\n",
              "AGE             0\n",
              "PTGENDER        0\n",
              "PTEDUCAT        0\n",
              "PTETHCAT        0\n",
              "PTRACCAT        0\n",
              "PTMARRY         0\n",
              "APOE4          12\n",
              "DX              7\n",
              "Ventricles     23\n",
              "Hippocampus    56\n",
              "WholeBrain     14\n",
              "Entorhinal     98\n",
              "Fusiform       98\n",
              "MidTemp        98\n",
              "ICV             2\n",
              "dtype: int64"
            ],
            "text/html": [
              "<div>\n",
              "<style scoped>\n",
              "    .dataframe tbody tr th:only-of-type {\n",
              "        vertical-align: middle;\n",
              "    }\n",
              "\n",
              "    .dataframe tbody tr th {\n",
              "        vertical-align: top;\n",
              "    }\n",
              "\n",
              "    .dataframe thead th {\n",
              "        text-align: right;\n",
              "    }\n",
              "</style>\n",
              "<table border=\"1\" class=\"dataframe\">\n",
              "  <thead>\n",
              "    <tr style=\"text-align: right;\">\n",
              "      <th></th>\n",
              "      <th>0</th>\n",
              "    </tr>\n",
              "  </thead>\n",
              "  <tbody>\n",
              "    <tr>\n",
              "      <th>PTID</th>\n",
              "      <td>0</td>\n",
              "    </tr>\n",
              "    <tr>\n",
              "      <th>AGE</th>\n",
              "      <td>0</td>\n",
              "    </tr>\n",
              "    <tr>\n",
              "      <th>PTGENDER</th>\n",
              "      <td>0</td>\n",
              "    </tr>\n",
              "    <tr>\n",
              "      <th>PTEDUCAT</th>\n",
              "      <td>0</td>\n",
              "    </tr>\n",
              "    <tr>\n",
              "      <th>PTETHCAT</th>\n",
              "      <td>0</td>\n",
              "    </tr>\n",
              "    <tr>\n",
              "      <th>PTRACCAT</th>\n",
              "      <td>0</td>\n",
              "    </tr>\n",
              "    <tr>\n",
              "      <th>PTMARRY</th>\n",
              "      <td>0</td>\n",
              "    </tr>\n",
              "    <tr>\n",
              "      <th>APOE4</th>\n",
              "      <td>12</td>\n",
              "    </tr>\n",
              "    <tr>\n",
              "      <th>DX</th>\n",
              "      <td>7</td>\n",
              "    </tr>\n",
              "    <tr>\n",
              "      <th>Ventricles</th>\n",
              "      <td>23</td>\n",
              "    </tr>\n",
              "    <tr>\n",
              "      <th>Hippocampus</th>\n",
              "      <td>56</td>\n",
              "    </tr>\n",
              "    <tr>\n",
              "      <th>WholeBrain</th>\n",
              "      <td>14</td>\n",
              "    </tr>\n",
              "    <tr>\n",
              "      <th>Entorhinal</th>\n",
              "      <td>98</td>\n",
              "    </tr>\n",
              "    <tr>\n",
              "      <th>Fusiform</th>\n",
              "      <td>98</td>\n",
              "    </tr>\n",
              "    <tr>\n",
              "      <th>MidTemp</th>\n",
              "      <td>98</td>\n",
              "    </tr>\n",
              "    <tr>\n",
              "      <th>ICV</th>\n",
              "      <td>2</td>\n",
              "    </tr>\n",
              "  </tbody>\n",
              "</table>\n",
              "</div><br><label><b>dtype:</b> int64</label>"
            ]
          },
          "metadata": {},
          "execution_count": 6
        }
      ]
    },
    {
      "cell_type": "markdown",
      "metadata": {
        "id": "K6T-IO15XqZE"
      },
      "source": [
        "OK, so first of all, let's just focus on patients that have a diagnosis in DX, since this is our target variable or label.\n",
        "Using the dropna() function from pandas https://pandas.pydata.org/pandas-docs/stable/reference/api/pandas.DataFrame.dropna.html"
      ]
    },
    {
      "cell_type": "code",
      "metadata": {
        "id": "QLeJ5f90Xwx8",
        "outputId": "2d61e870-572c-43e3-9b94-617e8da9021c",
        "colab": {
          "base_uri": "https://localhost:8080/",
          "height": 585
        }
      },
      "source": [
        "# this drops all columns that have missing values in the DX column\n",
        "data = data.dropna(subset=['DX'])\n",
        "# Here we will check again all missing values\n",
        "data.isnull().sum()"
      ],
      "execution_count": null,
      "outputs": [
        {
          "output_type": "execute_result",
          "data": {
            "text/plain": [
              "PTID            0\n",
              "AGE             0\n",
              "PTGENDER        0\n",
              "PTEDUCAT        0\n",
              "PTETHCAT        0\n",
              "PTRACCAT        0\n",
              "PTMARRY         0\n",
              "APOE4           6\n",
              "DX              0\n",
              "Ventricles     21\n",
              "Hippocampus    53\n",
              "WholeBrain     12\n",
              "Entorhinal     96\n",
              "Fusiform       96\n",
              "MidTemp        96\n",
              "ICV             1\n",
              "dtype: int64"
            ],
            "text/html": [
              "<div>\n",
              "<style scoped>\n",
              "    .dataframe tbody tr th:only-of-type {\n",
              "        vertical-align: middle;\n",
              "    }\n",
              "\n",
              "    .dataframe tbody tr th {\n",
              "        vertical-align: top;\n",
              "    }\n",
              "\n",
              "    .dataframe thead th {\n",
              "        text-align: right;\n",
              "    }\n",
              "</style>\n",
              "<table border=\"1\" class=\"dataframe\">\n",
              "  <thead>\n",
              "    <tr style=\"text-align: right;\">\n",
              "      <th></th>\n",
              "      <th>0</th>\n",
              "    </tr>\n",
              "  </thead>\n",
              "  <tbody>\n",
              "    <tr>\n",
              "      <th>PTID</th>\n",
              "      <td>0</td>\n",
              "    </tr>\n",
              "    <tr>\n",
              "      <th>AGE</th>\n",
              "      <td>0</td>\n",
              "    </tr>\n",
              "    <tr>\n",
              "      <th>PTGENDER</th>\n",
              "      <td>0</td>\n",
              "    </tr>\n",
              "    <tr>\n",
              "      <th>PTEDUCAT</th>\n",
              "      <td>0</td>\n",
              "    </tr>\n",
              "    <tr>\n",
              "      <th>PTETHCAT</th>\n",
              "      <td>0</td>\n",
              "    </tr>\n",
              "    <tr>\n",
              "      <th>PTRACCAT</th>\n",
              "      <td>0</td>\n",
              "    </tr>\n",
              "    <tr>\n",
              "      <th>PTMARRY</th>\n",
              "      <td>0</td>\n",
              "    </tr>\n",
              "    <tr>\n",
              "      <th>APOE4</th>\n",
              "      <td>6</td>\n",
              "    </tr>\n",
              "    <tr>\n",
              "      <th>DX</th>\n",
              "      <td>0</td>\n",
              "    </tr>\n",
              "    <tr>\n",
              "      <th>Ventricles</th>\n",
              "      <td>21</td>\n",
              "    </tr>\n",
              "    <tr>\n",
              "      <th>Hippocampus</th>\n",
              "      <td>53</td>\n",
              "    </tr>\n",
              "    <tr>\n",
              "      <th>WholeBrain</th>\n",
              "      <td>12</td>\n",
              "    </tr>\n",
              "    <tr>\n",
              "      <th>Entorhinal</th>\n",
              "      <td>96</td>\n",
              "    </tr>\n",
              "    <tr>\n",
              "      <th>Fusiform</th>\n",
              "      <td>96</td>\n",
              "    </tr>\n",
              "    <tr>\n",
              "      <th>MidTemp</th>\n",
              "      <td>96</td>\n",
              "    </tr>\n",
              "    <tr>\n",
              "      <th>ICV</th>\n",
              "      <td>1</td>\n",
              "    </tr>\n",
              "  </tbody>\n",
              "</table>\n",
              "</div><br><label><b>dtype:</b> int64</label>"
            ]
          },
          "metadata": {},
          "execution_count": 7
        }
      ]
    },
    {
      "cell_type": "markdown",
      "metadata": {
        "id": "TOPsrvIuZGRU"
      },
      "source": [
        "Check how much data we have left after deleting all the rows without DX information. This information should be given to you by looking at the first element of the shape tuple."
      ]
    },
    {
      "cell_type": "code",
      "metadata": {
        "id": "4RzpUUBCZCK7",
        "outputId": "31c91034-bf41-46b1-fb12-51e85225fa79",
        "colab": {
          "base_uri": "https://localhost:8080/"
        }
      },
      "source": [
        "# Checking remaining data\n",
        "data.shape"
      ],
      "execution_count": null,
      "outputs": [
        {
          "output_type": "execute_result",
          "data": {
            "text/plain": [
              "(1730, 16)"
            ]
          },
          "metadata": {},
          "execution_count": 8
        }
      ]
    },
    {
      "cell_type": "markdown",
      "metadata": {
        "id": "bU5VmDnOaMLk"
      },
      "source": [
        "And let's look at what diagnoses, column \"DX\" we have, As you can see below We have several diagnoses for the degree of cognitive impairment that range from: **Cognitively Normal** to **Dementia (aka. Alzheimer's Disease)**:\n",
        "\n",
        "|Diagnosis|Meaning|\n",
        "|---|---|\n",
        "|NL|Cognitively normal|\n",
        "|NL to MCI|Person in between Normal and Mild Cognitive Impairment|\n",
        "|MCI|Mild Cognitive Impairment|\n",
        "|MCI to Dementia|Person in between MCI and Alzheimer's Disease|\n",
        "|Dementia|Person that has Alzheimer's Disease|\n"
      ]
    },
    {
      "cell_type": "code",
      "metadata": {
        "id": "a6qb4QTyZJpy",
        "outputId": "7818b66f-ebe0-4bee-f845-683c73452837",
        "colab": {
          "base_uri": "https://localhost:8080/",
          "height": 366
        }
      },
      "source": [
        "# get value counts for all diagnoses\n",
        "data['DX'].value_counts()"
      ],
      "execution_count": null,
      "outputs": [
        {
          "output_type": "execute_result",
          "data": {
            "text/plain": [
              "DX\n",
              "MCI                586\n",
              "Dementia           577\n",
              "NL                 423\n",
              "MCI to Dementia    108\n",
              "NL to MCI           29\n",
              "NL to Dementia       3\n",
              "MCI to NL            3\n",
              "Dementia to MCI      1\n",
              "Name: count, dtype: int64"
            ],
            "text/html": [
              "<div>\n",
              "<style scoped>\n",
              "    .dataframe tbody tr th:only-of-type {\n",
              "        vertical-align: middle;\n",
              "    }\n",
              "\n",
              "    .dataframe tbody tr th {\n",
              "        vertical-align: top;\n",
              "    }\n",
              "\n",
              "    .dataframe thead th {\n",
              "        text-align: right;\n",
              "    }\n",
              "</style>\n",
              "<table border=\"1\" class=\"dataframe\">\n",
              "  <thead>\n",
              "    <tr style=\"text-align: right;\">\n",
              "      <th></th>\n",
              "      <th>count</th>\n",
              "    </tr>\n",
              "    <tr>\n",
              "      <th>DX</th>\n",
              "      <th></th>\n",
              "    </tr>\n",
              "  </thead>\n",
              "  <tbody>\n",
              "    <tr>\n",
              "      <th>MCI</th>\n",
              "      <td>586</td>\n",
              "    </tr>\n",
              "    <tr>\n",
              "      <th>Dementia</th>\n",
              "      <td>577</td>\n",
              "    </tr>\n",
              "    <tr>\n",
              "      <th>NL</th>\n",
              "      <td>423</td>\n",
              "    </tr>\n",
              "    <tr>\n",
              "      <th>MCI to Dementia</th>\n",
              "      <td>108</td>\n",
              "    </tr>\n",
              "    <tr>\n",
              "      <th>NL to MCI</th>\n",
              "      <td>29</td>\n",
              "    </tr>\n",
              "    <tr>\n",
              "      <th>NL to Dementia</th>\n",
              "      <td>3</td>\n",
              "    </tr>\n",
              "    <tr>\n",
              "      <th>MCI to NL</th>\n",
              "      <td>3</td>\n",
              "    </tr>\n",
              "    <tr>\n",
              "      <th>Dementia to MCI</th>\n",
              "      <td>1</td>\n",
              "    </tr>\n",
              "  </tbody>\n",
              "</table>\n",
              "</div><br><label><b>dtype:</b> int64</label>"
            ]
          },
          "metadata": {},
          "execution_count": 9
        }
      ]
    },
    {
      "cell_type": "markdown",
      "metadata": {
        "id": "StG9tM_maXGz"
      },
      "source": [
        "**NOTE:** We should have only 5 diagnosis in total, yet our count shows 8 total diagnosis! This is because real data comes in really messy. Notice for example that we have **NL to Dementia**, this would be the whole spectrum! so clearly this could be the result of an error during data input.\n",
        "\n",
        "Therefore, I would like to take out all the in between diagnosis and keep only the main ones: NL, MCI and Dementia. This way we can work with a simpler classification."
      ]
    },
    {
      "cell_type": "code",
      "metadata": {
        "id": "OscZux15dAQC"
      },
      "source": [
        "# creates an index with the exeptions we have stipulated\n",
        "index_to_drop = data[ (data['DX'] != \"MCI\") & (data['DX'] != \"NL\") & (data['DX'] != \"Dementia\")].index\n",
        "# drops all data based on our index\n",
        "data = data.drop(index_to_drop)\n"
      ],
      "execution_count": null,
      "outputs": []
    },
    {
      "cell_type": "code",
      "metadata": {
        "id": "PnRMbj4kaQf1",
        "outputId": "cfff7a7b-63c7-4133-dd39-14e784b20272",
        "colab": {
          "base_uri": "https://localhost:8080/",
          "height": 209
        }
      },
      "source": [
        "# this should be the new classification scheme\n",
        "data['DX'].value_counts()"
      ],
      "execution_count": null,
      "outputs": [
        {
          "output_type": "execute_result",
          "data": {
            "text/plain": [
              "DX\n",
              "MCI         586\n",
              "Dementia    577\n",
              "NL          423\n",
              "Name: count, dtype: int64"
            ],
            "text/html": [
              "<div>\n",
              "<style scoped>\n",
              "    .dataframe tbody tr th:only-of-type {\n",
              "        vertical-align: middle;\n",
              "    }\n",
              "\n",
              "    .dataframe tbody tr th {\n",
              "        vertical-align: top;\n",
              "    }\n",
              "\n",
              "    .dataframe thead th {\n",
              "        text-align: right;\n",
              "    }\n",
              "</style>\n",
              "<table border=\"1\" class=\"dataframe\">\n",
              "  <thead>\n",
              "    <tr style=\"text-align: right;\">\n",
              "      <th></th>\n",
              "      <th>count</th>\n",
              "    </tr>\n",
              "    <tr>\n",
              "      <th>DX</th>\n",
              "      <th></th>\n",
              "    </tr>\n",
              "  </thead>\n",
              "  <tbody>\n",
              "    <tr>\n",
              "      <th>MCI</th>\n",
              "      <td>586</td>\n",
              "    </tr>\n",
              "    <tr>\n",
              "      <th>Dementia</th>\n",
              "      <td>577</td>\n",
              "    </tr>\n",
              "    <tr>\n",
              "      <th>NL</th>\n",
              "      <td>423</td>\n",
              "    </tr>\n",
              "  </tbody>\n",
              "</table>\n",
              "</div><br><label><b>dtype:</b> int64</label>"
            ]
          },
          "metadata": {},
          "execution_count": 11
        }
      ]
    },
    {
      "cell_type": "markdown",
      "metadata": {
        "id": "qYU1L9MqdhQN"
      },
      "source": [
        "What's the status of missing data now in the other columns?"
      ]
    },
    {
      "cell_type": "code",
      "metadata": {
        "id": "L-l2ah0Idk8E",
        "outputId": "fc876f83-af76-41f8-94bb-acbc23664d95",
        "colab": {
          "base_uri": "https://localhost:8080/",
          "height": 585
        }
      },
      "source": [
        "# checking missing data again\n",
        "data.isnull().sum()"
      ],
      "execution_count": null,
      "outputs": [
        {
          "output_type": "execute_result",
          "data": {
            "text/plain": [
              "PTID            0\n",
              "AGE             0\n",
              "PTGENDER        0\n",
              "PTEDUCAT        0\n",
              "PTETHCAT        0\n",
              "PTRACCAT        0\n",
              "PTMARRY         0\n",
              "APOE4           6\n",
              "DX              0\n",
              "Ventricles     20\n",
              "Hippocampus    50\n",
              "WholeBrain     12\n",
              "Entorhinal     92\n",
              "Fusiform       92\n",
              "MidTemp        92\n",
              "ICV             1\n",
              "dtype: int64"
            ],
            "text/html": [
              "<div>\n",
              "<style scoped>\n",
              "    .dataframe tbody tr th:only-of-type {\n",
              "        vertical-align: middle;\n",
              "    }\n",
              "\n",
              "    .dataframe tbody tr th {\n",
              "        vertical-align: top;\n",
              "    }\n",
              "\n",
              "    .dataframe thead th {\n",
              "        text-align: right;\n",
              "    }\n",
              "</style>\n",
              "<table border=\"1\" class=\"dataframe\">\n",
              "  <thead>\n",
              "    <tr style=\"text-align: right;\">\n",
              "      <th></th>\n",
              "      <th>0</th>\n",
              "    </tr>\n",
              "  </thead>\n",
              "  <tbody>\n",
              "    <tr>\n",
              "      <th>PTID</th>\n",
              "      <td>0</td>\n",
              "    </tr>\n",
              "    <tr>\n",
              "      <th>AGE</th>\n",
              "      <td>0</td>\n",
              "    </tr>\n",
              "    <tr>\n",
              "      <th>PTGENDER</th>\n",
              "      <td>0</td>\n",
              "    </tr>\n",
              "    <tr>\n",
              "      <th>PTEDUCAT</th>\n",
              "      <td>0</td>\n",
              "    </tr>\n",
              "    <tr>\n",
              "      <th>PTETHCAT</th>\n",
              "      <td>0</td>\n",
              "    </tr>\n",
              "    <tr>\n",
              "      <th>PTRACCAT</th>\n",
              "      <td>0</td>\n",
              "    </tr>\n",
              "    <tr>\n",
              "      <th>PTMARRY</th>\n",
              "      <td>0</td>\n",
              "    </tr>\n",
              "    <tr>\n",
              "      <th>APOE4</th>\n",
              "      <td>6</td>\n",
              "    </tr>\n",
              "    <tr>\n",
              "      <th>DX</th>\n",
              "      <td>0</td>\n",
              "    </tr>\n",
              "    <tr>\n",
              "      <th>Ventricles</th>\n",
              "      <td>20</td>\n",
              "    </tr>\n",
              "    <tr>\n",
              "      <th>Hippocampus</th>\n",
              "      <td>50</td>\n",
              "    </tr>\n",
              "    <tr>\n",
              "      <th>WholeBrain</th>\n",
              "      <td>12</td>\n",
              "    </tr>\n",
              "    <tr>\n",
              "      <th>Entorhinal</th>\n",
              "      <td>92</td>\n",
              "    </tr>\n",
              "    <tr>\n",
              "      <th>Fusiform</th>\n",
              "      <td>92</td>\n",
              "    </tr>\n",
              "    <tr>\n",
              "      <th>MidTemp</th>\n",
              "      <td>92</td>\n",
              "    </tr>\n",
              "    <tr>\n",
              "      <th>ICV</th>\n",
              "      <td>1</td>\n",
              "    </tr>\n",
              "  </tbody>\n",
              "</table>\n",
              "</div><br><label><b>dtype:</b> int64</label>"
            ]
          },
          "metadata": {},
          "execution_count": 12
        }
      ]
    },
    {
      "cell_type": "markdown",
      "metadata": {
        "id": "8JyebQ3giFXS"
      },
      "source": [
        "Because we still have a lot of rows of data, we can go ahead and drop all the remaining columns with missing data"
      ]
    },
    {
      "cell_type": "code",
      "metadata": {
        "id": "TvJTitOriNcE",
        "outputId": "43300cbf-4a8e-483c-f2a1-90395e7e60e1",
        "colab": {
          "base_uri": "https://localhost:8080/"
        }
      },
      "source": [
        "# remove all rows that contain missing data\n",
        "data = data.dropna()\n",
        "# Checking our final dataframe\n",
        "data.shape"
      ],
      "execution_count": null,
      "outputs": [
        {
          "output_type": "execute_result",
          "data": {
            "text/plain": [
              "(1479, 16)"
            ]
          },
          "metadata": {},
          "execution_count": 13
        }
      ]
    },
    {
      "cell_type": "markdown",
      "metadata": {
        "id": "lftHwibPic31"
      },
      "source": [
        "OK, so we have 1479 patients with complete data now. We will then check the total number of patients per diagnosis. This is important later on when we train our data with our ML models because we want the number for each diagnosis to be roughly similar, that is as close as possible to a **Balanced** Dataset. When this is not the case, it can present problems in terms of trusting our accuracy results blindly. More about this in **Module 6** and **Module 7**"
      ]
    },
    {
      "cell_type": "code",
      "metadata": {
        "id": "bTYajUznfMjy",
        "outputId": "c1f1b72b-f696-47eb-920d-0c541891c215",
        "colab": {
          "base_uri": "https://localhost:8080/",
          "height": 209
        }
      },
      "source": [
        "# Checking the total number of patients per diagnosis\n",
        "data['DX'].value_counts()"
      ],
      "execution_count": null,
      "outputs": [
        {
          "output_type": "execute_result",
          "data": {
            "text/plain": [
              "DX\n",
              "MCI         559\n",
              "Dementia    522\n",
              "NL          398\n",
              "Name: count, dtype: int64"
            ],
            "text/html": [
              "<div>\n",
              "<style scoped>\n",
              "    .dataframe tbody tr th:only-of-type {\n",
              "        vertical-align: middle;\n",
              "    }\n",
              "\n",
              "    .dataframe tbody tr th {\n",
              "        vertical-align: top;\n",
              "    }\n",
              "\n",
              "    .dataframe thead th {\n",
              "        text-align: right;\n",
              "    }\n",
              "</style>\n",
              "<table border=\"1\" class=\"dataframe\">\n",
              "  <thead>\n",
              "    <tr style=\"text-align: right;\">\n",
              "      <th></th>\n",
              "      <th>count</th>\n",
              "    </tr>\n",
              "    <tr>\n",
              "      <th>DX</th>\n",
              "      <th></th>\n",
              "    </tr>\n",
              "  </thead>\n",
              "  <tbody>\n",
              "    <tr>\n",
              "      <th>MCI</th>\n",
              "      <td>559</td>\n",
              "    </tr>\n",
              "    <tr>\n",
              "      <th>Dementia</th>\n",
              "      <td>522</td>\n",
              "    </tr>\n",
              "    <tr>\n",
              "      <th>NL</th>\n",
              "      <td>398</td>\n",
              "    </tr>\n",
              "  </tbody>\n",
              "</table>\n",
              "</div><br><label><b>dtype:</b> int64</label>"
            ]
          },
          "metadata": {},
          "execution_count": 14
        }
      ]
    },
    {
      "cell_type": "markdown",
      "source": [
        "As we can see they are not perfectly equal for all diagnosis but they are close enought that we can proceed."
      ],
      "metadata": {
        "id": "V3rvO6ygIWTf"
      }
    },
    {
      "cell_type": "markdown",
      "metadata": {
        "id": "FblK089oiP8J"
      },
      "source": [
        "# Task 2: describing what we did with missing data\n",
        "\n",
        "In the previous lines of code, we threw out many patients because we didn't have the info we wanted for them. Write a short paragraph where you explain to a potential reader what the number of patients is in the original dataset, which patients we removed for what reason and how many were left for the analysis. Feel free to change the order of operations. For example, I removed first the patients with no diagnosis and later the patients with any missing data. If you do the latter first, you don't have to specifically remove patients with no diagnosis anymore."
      ]
    },
    {
      "cell_type": "markdown",
      "metadata": {
        "id": "uy6JCsIWum9N"
      },
      "source": [
        "# 4) Data wrangling in preparation for Model training\n",
        "\n",
        "## - Ensuring feature columns are correct\n",
        "In this section we will be splitting the data into label (the DX columns) and features (All other columns)\n",
        "\n"
      ]
    },
    {
      "cell_type": "code",
      "metadata": {
        "id": "E3jA9hebBZW5"
      },
      "source": [
        "# Split the data in labels and features\n",
        "labels = data[\"DX\"]\n",
        "features = data.drop(columns=['DX'])"
      ],
      "execution_count": null,
      "outputs": []
    },
    {
      "cell_type": "markdown",
      "metadata": {
        "id": "ZgJdu5DruzCY"
      },
      "source": [
        "What do the features look like again? Make sure it doesn't include any columns that will not help in our prediction"
      ]
    },
    {
      "cell_type": "code",
      "source": [
        "# checking features again\n",
        "features.head()"
      ],
      "metadata": {
        "id": "20gYiz6dKIvU",
        "outputId": "6bed4dd0-41ed-4b04-f6b7-03ec13ef43a6",
        "colab": {
          "base_uri": "https://localhost:8080/",
          "height": 312
        }
      },
      "execution_count": null,
      "outputs": [
        {
          "output_type": "execute_result",
          "data": {
            "text/plain": [
              "         PTID   AGE PTGENDER  PTEDUCAT         PTETHCAT PTRACCAT  PTMARRY  \\\n",
              "0  002_S_0295  84.8     Male        18  Not Hisp/Latino    White  Married   \n",
              "1  002_S_0413  76.3   Female        16  Not Hisp/Latino    White  Married   \n",
              "2  002_S_0559  79.3     Male        16  Not Hisp/Latino    White  Widowed   \n",
              "3  002_S_0619  77.5     Male        12  Not Hisp/Latino    White  Married   \n",
              "4  002_S_0685  89.6   Female        16  Not Hisp/Latino    White  Married   \n",
              "\n",
              "   APOE4     Ventricles  Hippocampus    WholeBrain   Entorhinal      Fusiform  \\\n",
              "0    1.0   43332.500000  6805.125000  1.071568e+06  3752.625000  17693.875000   \n",
              "1    0.0   31936.454545  6824.636364  1.055413e+06  4131.090909  20095.909091   \n",
              "2    1.0   38410.666667  7496.666667  1.092807e+06  3998.333333  18993.000000   \n",
              "3    2.0  120529.500000  5812.000000  1.093932e+06  2773.000000  20675.000000   \n",
              "4    0.0   40921.571429  7063.250000  9.800458e+05  3894.375000  14152.250000   \n",
              "\n",
              "        MidTemp           ICV  \n",
              "0  19420.125000  1.649602e+06  \n",
              "1  20235.545455  1.600009e+06  \n",
              "2  22226.000000  1.703968e+06  \n",
              "3  19959.000000  2.070530e+06  \n",
              "4  18133.625000  1.521331e+06  "
            ],
            "text/html": [
              "\n",
              "  <div id=\"df-27d55572-bb84-4954-bead-ae44f740ba95\" class=\"colab-df-container\">\n",
              "    <div>\n",
              "<style scoped>\n",
              "    .dataframe tbody tr th:only-of-type {\n",
              "        vertical-align: middle;\n",
              "    }\n",
              "\n",
              "    .dataframe tbody tr th {\n",
              "        vertical-align: top;\n",
              "    }\n",
              "\n",
              "    .dataframe thead th {\n",
              "        text-align: right;\n",
              "    }\n",
              "</style>\n",
              "<table border=\"1\" class=\"dataframe\">\n",
              "  <thead>\n",
              "    <tr style=\"text-align: right;\">\n",
              "      <th></th>\n",
              "      <th>PTID</th>\n",
              "      <th>AGE</th>\n",
              "      <th>PTGENDER</th>\n",
              "      <th>PTEDUCAT</th>\n",
              "      <th>PTETHCAT</th>\n",
              "      <th>PTRACCAT</th>\n",
              "      <th>PTMARRY</th>\n",
              "      <th>APOE4</th>\n",
              "      <th>Ventricles</th>\n",
              "      <th>Hippocampus</th>\n",
              "      <th>WholeBrain</th>\n",
              "      <th>Entorhinal</th>\n",
              "      <th>Fusiform</th>\n",
              "      <th>MidTemp</th>\n",
              "      <th>ICV</th>\n",
              "    </tr>\n",
              "  </thead>\n",
              "  <tbody>\n",
              "    <tr>\n",
              "      <th>0</th>\n",
              "      <td>002_S_0295</td>\n",
              "      <td>84.8</td>\n",
              "      <td>Male</td>\n",
              "      <td>18</td>\n",
              "      <td>Not Hisp/Latino</td>\n",
              "      <td>White</td>\n",
              "      <td>Married</td>\n",
              "      <td>1.0</td>\n",
              "      <td>43332.500000</td>\n",
              "      <td>6805.125000</td>\n",
              "      <td>1.071568e+06</td>\n",
              "      <td>3752.625000</td>\n",
              "      <td>17693.875000</td>\n",
              "      <td>19420.125000</td>\n",
              "      <td>1.649602e+06</td>\n",
              "    </tr>\n",
              "    <tr>\n",
              "      <th>1</th>\n",
              "      <td>002_S_0413</td>\n",
              "      <td>76.3</td>\n",
              "      <td>Female</td>\n",
              "      <td>16</td>\n",
              "      <td>Not Hisp/Latino</td>\n",
              "      <td>White</td>\n",
              "      <td>Married</td>\n",
              "      <td>0.0</td>\n",
              "      <td>31936.454545</td>\n",
              "      <td>6824.636364</td>\n",
              "      <td>1.055413e+06</td>\n",
              "      <td>4131.090909</td>\n",
              "      <td>20095.909091</td>\n",
              "      <td>20235.545455</td>\n",
              "      <td>1.600009e+06</td>\n",
              "    </tr>\n",
              "    <tr>\n",
              "      <th>2</th>\n",
              "      <td>002_S_0559</td>\n",
              "      <td>79.3</td>\n",
              "      <td>Male</td>\n",
              "      <td>16</td>\n",
              "      <td>Not Hisp/Latino</td>\n",
              "      <td>White</td>\n",
              "      <td>Widowed</td>\n",
              "      <td>1.0</td>\n",
              "      <td>38410.666667</td>\n",
              "      <td>7496.666667</td>\n",
              "      <td>1.092807e+06</td>\n",
              "      <td>3998.333333</td>\n",
              "      <td>18993.000000</td>\n",
              "      <td>22226.000000</td>\n",
              "      <td>1.703968e+06</td>\n",
              "    </tr>\n",
              "    <tr>\n",
              "      <th>3</th>\n",
              "      <td>002_S_0619</td>\n",
              "      <td>77.5</td>\n",
              "      <td>Male</td>\n",
              "      <td>12</td>\n",
              "      <td>Not Hisp/Latino</td>\n",
              "      <td>White</td>\n",
              "      <td>Married</td>\n",
              "      <td>2.0</td>\n",
              "      <td>120529.500000</td>\n",
              "      <td>5812.000000</td>\n",
              "      <td>1.093932e+06</td>\n",
              "      <td>2773.000000</td>\n",
              "      <td>20675.000000</td>\n",
              "      <td>19959.000000</td>\n",
              "      <td>2.070530e+06</td>\n",
              "    </tr>\n",
              "    <tr>\n",
              "      <th>4</th>\n",
              "      <td>002_S_0685</td>\n",
              "      <td>89.6</td>\n",
              "      <td>Female</td>\n",
              "      <td>16</td>\n",
              "      <td>Not Hisp/Latino</td>\n",
              "      <td>White</td>\n",
              "      <td>Married</td>\n",
              "      <td>0.0</td>\n",
              "      <td>40921.571429</td>\n",
              "      <td>7063.250000</td>\n",
              "      <td>9.800458e+05</td>\n",
              "      <td>3894.375000</td>\n",
              "      <td>14152.250000</td>\n",
              "      <td>18133.625000</td>\n",
              "      <td>1.521331e+06</td>\n",
              "    </tr>\n",
              "  </tbody>\n",
              "</table>\n",
              "</div>\n",
              "    <div class=\"colab-df-buttons\">\n",
              "\n",
              "  <div class=\"colab-df-container\">\n",
              "    <button class=\"colab-df-convert\" onclick=\"convertToInteractive('df-27d55572-bb84-4954-bead-ae44f740ba95')\"\n",
              "            title=\"Convert this dataframe to an interactive table.\"\n",
              "            style=\"display:none;\">\n",
              "\n",
              "  <svg xmlns=\"http://www.w3.org/2000/svg\" height=\"24px\" viewBox=\"0 -960 960 960\">\n",
              "    <path d=\"M120-120v-720h720v720H120Zm60-500h600v-160H180v160Zm220 220h160v-160H400v160Zm0 220h160v-160H400v160ZM180-400h160v-160H180v160Zm440 0h160v-160H620v160ZM180-180h160v-160H180v160Zm440 0h160v-160H620v160Z\"/>\n",
              "  </svg>\n",
              "    </button>\n",
              "\n",
              "  <style>\n",
              "    .colab-df-container {\n",
              "      display:flex;\n",
              "      gap: 12px;\n",
              "    }\n",
              "\n",
              "    .colab-df-convert {\n",
              "      background-color: #E8F0FE;\n",
              "      border: none;\n",
              "      border-radius: 50%;\n",
              "      cursor: pointer;\n",
              "      display: none;\n",
              "      fill: #1967D2;\n",
              "      height: 32px;\n",
              "      padding: 0 0 0 0;\n",
              "      width: 32px;\n",
              "    }\n",
              "\n",
              "    .colab-df-convert:hover {\n",
              "      background-color: #E2EBFA;\n",
              "      box-shadow: 0px 1px 2px rgba(60, 64, 67, 0.3), 0px 1px 3px 1px rgba(60, 64, 67, 0.15);\n",
              "      fill: #174EA6;\n",
              "    }\n",
              "\n",
              "    .colab-df-buttons div {\n",
              "      margin-bottom: 4px;\n",
              "    }\n",
              "\n",
              "    [theme=dark] .colab-df-convert {\n",
              "      background-color: #3B4455;\n",
              "      fill: #D2E3FC;\n",
              "    }\n",
              "\n",
              "    [theme=dark] .colab-df-convert:hover {\n",
              "      background-color: #434B5C;\n",
              "      box-shadow: 0px 1px 3px 1px rgba(0, 0, 0, 0.15);\n",
              "      filter: drop-shadow(0px 1px 2px rgba(0, 0, 0, 0.3));\n",
              "      fill: #FFFFFF;\n",
              "    }\n",
              "  </style>\n",
              "\n",
              "    <script>\n",
              "      const buttonEl =\n",
              "        document.querySelector('#df-27d55572-bb84-4954-bead-ae44f740ba95 button.colab-df-convert');\n",
              "      buttonEl.style.display =\n",
              "        google.colab.kernel.accessAllowed ? 'block' : 'none';\n",
              "\n",
              "      async function convertToInteractive(key) {\n",
              "        const element = document.querySelector('#df-27d55572-bb84-4954-bead-ae44f740ba95');\n",
              "        const dataTable =\n",
              "          await google.colab.kernel.invokeFunction('convertToInteractive',\n",
              "                                                    [key], {});\n",
              "        if (!dataTable) return;\n",
              "\n",
              "        const docLinkHtml = 'Like what you see? Visit the ' +\n",
              "          '<a target=\"_blank\" href=https://colab.research.google.com/notebooks/data_table.ipynb>data table notebook</a>'\n",
              "          + ' to learn more about interactive tables.';\n",
              "        element.innerHTML = '';\n",
              "        dataTable['output_type'] = 'display_data';\n",
              "        await google.colab.output.renderOutput(dataTable, element);\n",
              "        const docLink = document.createElement('div');\n",
              "        docLink.innerHTML = docLinkHtml;\n",
              "        element.appendChild(docLink);\n",
              "      }\n",
              "    </script>\n",
              "  </div>\n",
              "\n",
              "\n",
              "<div id=\"df-597d6a57-9802-425e-87fe-ecb9a64b72d6\">\n",
              "  <button class=\"colab-df-quickchart\" onclick=\"quickchart('df-597d6a57-9802-425e-87fe-ecb9a64b72d6')\"\n",
              "            title=\"Suggest charts\"\n",
              "            style=\"display:none;\">\n",
              "\n",
              "<svg xmlns=\"http://www.w3.org/2000/svg\" height=\"24px\"viewBox=\"0 0 24 24\"\n",
              "     width=\"24px\">\n",
              "    <g>\n",
              "        <path d=\"M19 3H5c-1.1 0-2 .9-2 2v14c0 1.1.9 2 2 2h14c1.1 0 2-.9 2-2V5c0-1.1-.9-2-2-2zM9 17H7v-7h2v7zm4 0h-2V7h2v10zm4 0h-2v-4h2v4z\"/>\n",
              "    </g>\n",
              "</svg>\n",
              "  </button>\n",
              "\n",
              "<style>\n",
              "  .colab-df-quickchart {\n",
              "      --bg-color: #E8F0FE;\n",
              "      --fill-color: #1967D2;\n",
              "      --hover-bg-color: #E2EBFA;\n",
              "      --hover-fill-color: #174EA6;\n",
              "      --disabled-fill-color: #AAA;\n",
              "      --disabled-bg-color: #DDD;\n",
              "  }\n",
              "\n",
              "  [theme=dark] .colab-df-quickchart {\n",
              "      --bg-color: #3B4455;\n",
              "      --fill-color: #D2E3FC;\n",
              "      --hover-bg-color: #434B5C;\n",
              "      --hover-fill-color: #FFFFFF;\n",
              "      --disabled-bg-color: #3B4455;\n",
              "      --disabled-fill-color: #666;\n",
              "  }\n",
              "\n",
              "  .colab-df-quickchart {\n",
              "    background-color: var(--bg-color);\n",
              "    border: none;\n",
              "    border-radius: 50%;\n",
              "    cursor: pointer;\n",
              "    display: none;\n",
              "    fill: var(--fill-color);\n",
              "    height: 32px;\n",
              "    padding: 0;\n",
              "    width: 32px;\n",
              "  }\n",
              "\n",
              "  .colab-df-quickchart:hover {\n",
              "    background-color: var(--hover-bg-color);\n",
              "    box-shadow: 0 1px 2px rgba(60, 64, 67, 0.3), 0 1px 3px 1px rgba(60, 64, 67, 0.15);\n",
              "    fill: var(--button-hover-fill-color);\n",
              "  }\n",
              "\n",
              "  .colab-df-quickchart-complete:disabled,\n",
              "  .colab-df-quickchart-complete:disabled:hover {\n",
              "    background-color: var(--disabled-bg-color);\n",
              "    fill: var(--disabled-fill-color);\n",
              "    box-shadow: none;\n",
              "  }\n",
              "\n",
              "  .colab-df-spinner {\n",
              "    border: 2px solid var(--fill-color);\n",
              "    border-color: transparent;\n",
              "    border-bottom-color: var(--fill-color);\n",
              "    animation:\n",
              "      spin 1s steps(1) infinite;\n",
              "  }\n",
              "\n",
              "  @keyframes spin {\n",
              "    0% {\n",
              "      border-color: transparent;\n",
              "      border-bottom-color: var(--fill-color);\n",
              "      border-left-color: var(--fill-color);\n",
              "    }\n",
              "    20% {\n",
              "      border-color: transparent;\n",
              "      border-left-color: var(--fill-color);\n",
              "      border-top-color: var(--fill-color);\n",
              "    }\n",
              "    30% {\n",
              "      border-color: transparent;\n",
              "      border-left-color: var(--fill-color);\n",
              "      border-top-color: var(--fill-color);\n",
              "      border-right-color: var(--fill-color);\n",
              "    }\n",
              "    40% {\n",
              "      border-color: transparent;\n",
              "      border-right-color: var(--fill-color);\n",
              "      border-top-color: var(--fill-color);\n",
              "    }\n",
              "    60% {\n",
              "      border-color: transparent;\n",
              "      border-right-color: var(--fill-color);\n",
              "    }\n",
              "    80% {\n",
              "      border-color: transparent;\n",
              "      border-right-color: var(--fill-color);\n",
              "      border-bottom-color: var(--fill-color);\n",
              "    }\n",
              "    90% {\n",
              "      border-color: transparent;\n",
              "      border-bottom-color: var(--fill-color);\n",
              "    }\n",
              "  }\n",
              "</style>\n",
              "\n",
              "  <script>\n",
              "    async function quickchart(key) {\n",
              "      const quickchartButtonEl =\n",
              "        document.querySelector('#' + key + ' button');\n",
              "      quickchartButtonEl.disabled = true;  // To prevent multiple clicks.\n",
              "      quickchartButtonEl.classList.add('colab-df-spinner');\n",
              "      try {\n",
              "        const charts = await google.colab.kernel.invokeFunction(\n",
              "            'suggestCharts', [key], {});\n",
              "      } catch (error) {\n",
              "        console.error('Error during call to suggestCharts:', error);\n",
              "      }\n",
              "      quickchartButtonEl.classList.remove('colab-df-spinner');\n",
              "      quickchartButtonEl.classList.add('colab-df-quickchart-complete');\n",
              "    }\n",
              "    (() => {\n",
              "      let quickchartButtonEl =\n",
              "        document.querySelector('#df-597d6a57-9802-425e-87fe-ecb9a64b72d6 button');\n",
              "      quickchartButtonEl.style.display =\n",
              "        google.colab.kernel.accessAllowed ? 'block' : 'none';\n",
              "    })();\n",
              "  </script>\n",
              "</div>\n",
              "\n",
              "    </div>\n",
              "  </div>\n"
            ],
            "application/vnd.google.colaboratory.intrinsic+json": {
              "type": "dataframe",
              "variable_name": "features",
              "summary": "{\n  \"name\": \"features\",\n  \"rows\": 1479,\n  \"fields\": [\n    {\n      \"column\": \"PTID\",\n      \"properties\": {\n        \"dtype\": \"string\",\n        \"num_unique_values\": 1479,\n        \"samples\": [\n          \"037_S_0539\",\n          \"016_S_2031\",\n          \"022_S_4320\"\n        ],\n        \"semantic_type\": \"\",\n        \"description\": \"\"\n      }\n    },\n    {\n      \"column\": \"AGE\",\n      \"properties\": {\n        \"dtype\": \"number\",\n        \"std\": 7.142134216920029,\n        \"min\": 54.4,\n        \"max\": 91.4,\n        \"num_unique_values\": 311,\n        \"samples\": [\n          61.7,\n          69.3,\n          67.4\n        ],\n        \"semantic_type\": \"\",\n        \"description\": \"\"\n      }\n    },\n    {\n      \"column\": \"PTGENDER\",\n      \"properties\": {\n        \"dtype\": \"category\",\n        \"num_unique_values\": 2,\n        \"samples\": [\n          \"Female\",\n          \"Male\"\n        ],\n        \"semantic_type\": \"\",\n        \"description\": \"\"\n      }\n    },\n    {\n      \"column\": \"PTEDUCAT\",\n      \"properties\": {\n        \"dtype\": \"number\",\n        \"std\": 2,\n        \"min\": 4,\n        \"max\": 20,\n        \"num_unique_values\": 16,\n        \"samples\": [\n          18,\n          16\n        ],\n        \"semantic_type\": \"\",\n        \"description\": \"\"\n      }\n    },\n    {\n      \"column\": \"PTETHCAT\",\n      \"properties\": {\n        \"dtype\": \"category\",\n        \"num_unique_values\": 3,\n        \"samples\": [\n          \"Not Hisp/Latino\",\n          \"Hisp/Latino\"\n        ],\n        \"semantic_type\": \"\",\n        \"description\": \"\"\n      }\n    },\n    {\n      \"column\": \"PTRACCAT\",\n      \"properties\": {\n        \"dtype\": \"category\",\n        \"num_unique_values\": 7,\n        \"samples\": [\n          \"White\",\n          \"More than one\"\n        ],\n        \"semantic_type\": \"\",\n        \"description\": \"\"\n      }\n    },\n    {\n      \"column\": \"PTMARRY\",\n      \"properties\": {\n        \"dtype\": \"category\",\n        \"num_unique_values\": 5,\n        \"samples\": [\n          \"Widowed\",\n          \"Unknown\"\n        ],\n        \"semantic_type\": \"\",\n        \"description\": \"\"\n      }\n    },\n    {\n      \"column\": \"APOE4\",\n      \"properties\": {\n        \"dtype\": \"number\",\n        \"std\": 0.6732549957269301,\n        \"min\": 0.0,\n        \"max\": 2.0,\n        \"num_unique_values\": 3,\n        \"samples\": [\n          1.0,\n          0.0\n        ],\n        \"semantic_type\": \"\",\n        \"description\": \"\"\n      }\n    },\n    {\n      \"column\": \"Ventricles\",\n      \"properties\": {\n        \"dtype\": \"number\",\n        \"std\": 23727.47639214313,\n        \"min\": 6069.5,\n        \"max\": 151405.5,\n        \"num_unique_values\": 1477,\n        \"samples\": [\n          89169.8,\n          34309.5\n        ],\n        \"semantic_type\": \"\",\n        \"description\": \"\"\n      }\n    },\n    {\n      \"column\": \"Hippocampus\",\n      \"properties\": {\n        \"dtype\": \"number\",\n        \"std\": 1235.484343989532,\n        \"min\": 2894.5,\n        \"max\": 10941.875,\n        \"num_unique_values\": 1441,\n        \"samples\": [\n          7901.875,\n          6904.8\n        ],\n        \"semantic_type\": \"\",\n        \"description\": \"\"\n      }\n    },\n    {\n      \"column\": \"WholeBrain\",\n      \"properties\": {\n        \"dtype\": \"number\",\n        \"std\": 112348.41829147363,\n        \"min\": 661622.5,\n        \"max\": 1486040.0,\n        \"num_unique_values\": 1477,\n        \"samples\": [\n          1009892.85714286,\n          897858.333333333\n        ],\n        \"semantic_type\": \"\",\n        \"description\": \"\"\n      }\n    },\n    {\n      \"column\": \"Entorhinal\",\n      \"properties\": {\n        \"dtype\": \"number\",\n        \"std\": 782.6017293332105,\n        \"min\": 1143.0,\n        \"max\": 5931.0,\n        \"num_unique_values\": 1424,\n        \"samples\": [\n          2033.25,\n          3616.0\n        ],\n        \"semantic_type\": \"\",\n        \"description\": \"\"\n      }\n    },\n    {\n      \"column\": \"Fusiform\",\n      \"properties\": {\n        \"dtype\": \"number\",\n        \"std\": 2798.2761869093306,\n        \"min\": 8863.66666666667,\n        \"max\": 28637.5,\n        \"num_unique_values\": 1464,\n        \"samples\": [\n          15338.8571428571,\n          13975.0\n        ],\n        \"semantic_type\": \"\",\n        \"description\": \"\"\n      }\n    },\n    {\n      \"column\": \"MidTemp\",\n      \"properties\": {\n        \"dtype\": \"number\",\n        \"std\": 3166.0839236049524,\n        \"min\": 8850.33333333333,\n        \"max\": 32189.0,\n        \"num_unique_values\": 1467,\n        \"samples\": [\n          21413.0,\n          21725.6666666667\n        ],\n        \"semantic_type\": \"\",\n        \"description\": \"\"\n      }\n    },\n    {\n      \"column\": \"ICV\",\n      \"properties\": {\n        \"dtype\": \"number\",\n        \"std\": 166573.6819058395,\n        \"min\": 870835.471,\n        \"max\": 2081040.0,\n        \"num_unique_values\": 1478,\n        \"samples\": [\n          1610064.28571429,\n          1510556.66666667\n        ],\n        \"semantic_type\": \"\",\n        \"description\": \"\"\n      }\n    }\n  ]\n}"
            }
          },
          "metadata": {},
          "execution_count": 16
        }
      ]
    },
    {
      "cell_type": "markdown",
      "metadata": {
        "id": "QBrn7Q9M_XBa"
      },
      "source": [
        "Let's remove PTID (patient ID). We don't need it, since it would not help us predict diagnosis."
      ]
    },
    {
      "cell_type": "code",
      "metadata": {
        "id": "GY0HR_jy_V2J"
      },
      "source": [
        "# Dropping patient ID column\n",
        "features = features.drop(columns=['PTID'])"
      ],
      "execution_count": null,
      "outputs": []
    },
    {
      "cell_type": "markdown",
      "source": [
        "## - One Hot Encoding for categorical variables\n",
        "Recall from the text that we are unable to work with data that is words in ML models directly, so we need to recode them into numbers. There are languages and algorythms that seem to be able to deal with words, but they are still turning them into numbers under the hood!\n"
      ],
      "metadata": {
        "id": "Gtmncu5vL3ZT"
      }
    },
    {
      "cell_type": "code",
      "metadata": {
        "id": "gZorUXLSw1kR",
        "outputId": "d67f337d-4406-47e3-ce6f-e1bce428fb01",
        "colab": {
          "base_uri": "https://localhost:8080/",
          "height": 523
        }
      },
      "source": [
        "# checking the variable types for each column\n",
        "features.dtypes"
      ],
      "execution_count": null,
      "outputs": [
        {
          "output_type": "execute_result",
          "data": {
            "text/plain": [
              "AGE            float64\n",
              "PTGENDER        object\n",
              "PTEDUCAT         int64\n",
              "PTETHCAT        object\n",
              "PTRACCAT        object\n",
              "PTMARRY         object\n",
              "APOE4          float64\n",
              "Ventricles     float64\n",
              "Hippocampus    float64\n",
              "WholeBrain     float64\n",
              "Entorhinal     float64\n",
              "Fusiform       float64\n",
              "MidTemp        float64\n",
              "ICV            float64\n",
              "dtype: object"
            ],
            "text/html": [
              "<div>\n",
              "<style scoped>\n",
              "    .dataframe tbody tr th:only-of-type {\n",
              "        vertical-align: middle;\n",
              "    }\n",
              "\n",
              "    .dataframe tbody tr th {\n",
              "        vertical-align: top;\n",
              "    }\n",
              "\n",
              "    .dataframe thead th {\n",
              "        text-align: right;\n",
              "    }\n",
              "</style>\n",
              "<table border=\"1\" class=\"dataframe\">\n",
              "  <thead>\n",
              "    <tr style=\"text-align: right;\">\n",
              "      <th></th>\n",
              "      <th>0</th>\n",
              "    </tr>\n",
              "  </thead>\n",
              "  <tbody>\n",
              "    <tr>\n",
              "      <th>AGE</th>\n",
              "      <td>float64</td>\n",
              "    </tr>\n",
              "    <tr>\n",
              "      <th>PTGENDER</th>\n",
              "      <td>object</td>\n",
              "    </tr>\n",
              "    <tr>\n",
              "      <th>PTEDUCAT</th>\n",
              "      <td>int64</td>\n",
              "    </tr>\n",
              "    <tr>\n",
              "      <th>PTETHCAT</th>\n",
              "      <td>object</td>\n",
              "    </tr>\n",
              "    <tr>\n",
              "      <th>PTRACCAT</th>\n",
              "      <td>object</td>\n",
              "    </tr>\n",
              "    <tr>\n",
              "      <th>PTMARRY</th>\n",
              "      <td>object</td>\n",
              "    </tr>\n",
              "    <tr>\n",
              "      <th>APOE4</th>\n",
              "      <td>float64</td>\n",
              "    </tr>\n",
              "    <tr>\n",
              "      <th>Ventricles</th>\n",
              "      <td>float64</td>\n",
              "    </tr>\n",
              "    <tr>\n",
              "      <th>Hippocampus</th>\n",
              "      <td>float64</td>\n",
              "    </tr>\n",
              "    <tr>\n",
              "      <th>WholeBrain</th>\n",
              "      <td>float64</td>\n",
              "    </tr>\n",
              "    <tr>\n",
              "      <th>Entorhinal</th>\n",
              "      <td>float64</td>\n",
              "    </tr>\n",
              "    <tr>\n",
              "      <th>Fusiform</th>\n",
              "      <td>float64</td>\n",
              "    </tr>\n",
              "    <tr>\n",
              "      <th>MidTemp</th>\n",
              "      <td>float64</td>\n",
              "    </tr>\n",
              "    <tr>\n",
              "      <th>ICV</th>\n",
              "      <td>float64</td>\n",
              "    </tr>\n",
              "  </tbody>\n",
              "</table>\n",
              "</div><br><label><b>dtype:</b> object</label>"
            ]
          },
          "metadata": {},
          "execution_count": 18
        }
      ]
    },
    {
      "cell_type": "markdown",
      "metadata": {
        "id": "Bo8AoQMe_iK7"
      },
      "source": [
        "As we can see in the output above. There are a few features that are not numerical. We need to make sure that **gender**, **ethnicity** , **race** and **marital status** are coded as numbers. To do this we will need to **one-hot-encode** them. Once we are done doing our one hot encoding, we should see each of the levels of our categorical variables as a recoded column."
      ]
    },
    {
      "cell_type": "code",
      "metadata": {
        "id": "27z-O_k04UP7",
        "outputId": "92ae9703-b2d6-4a3d-bb09-0c13cc8c0e04",
        "colab": {
          "base_uri": "https://localhost:8080/"
        }
      },
      "source": [
        "# getting a list of categorical variables we need to recode\n",
        "features_to_encode = list(features.select_dtypes(include = ['object']).columns)\n",
        "features_to_encode"
      ],
      "execution_count": null,
      "outputs": [
        {
          "output_type": "execute_result",
          "data": {
            "text/plain": [
              "['PTGENDER', 'PTETHCAT', 'PTRACCAT', 'PTMARRY']"
            ]
          },
          "metadata": {},
          "execution_count": 19
        }
      ]
    },
    {
      "cell_type": "code",
      "source": [
        "for column in features_to_encode:\n",
        "    unique_values = features[column].nunique()\n",
        "    print(f\"Column '{column}' has {unique_values} unique values.\")\n"
      ],
      "metadata": {
        "id": "Kqb1qNwlpGDo",
        "outputId": "b7fd5d5f-1712-4a1d-ce98-d6a011050e00",
        "colab": {
          "base_uri": "https://localhost:8080/"
        }
      },
      "execution_count": null,
      "outputs": [
        {
          "output_type": "stream",
          "name": "stdout",
          "text": [
            "Column 'PTGENDER' has 2 unique values.\n",
            "Column 'PTETHCAT' has 3 unique values.\n",
            "Column 'PTRACCAT' has 7 unique values.\n",
            "Column 'PTMARRY' has 5 unique values.\n"
          ]
        }
      ]
    },
    {
      "cell_type": "code",
      "metadata": {
        "id": "R206IQYd6RpA",
        "outputId": "ef4f3ee3-f653-4639-cace-009aba48caec",
        "colab": {
          "base_uri": "https://localhost:8080/",
          "height": 342
        }
      },
      "source": [
        "# using a for loop to one-hot encode each of the categorical variables\n",
        "for f in features_to_encode:\n",
        "  print(\"Parent Categorical Variable: \",f)\n",
        "  z = pd.get_dummies(features[f], prefix=f) #get_dummies is the pandas function for one-hot-encoding\n",
        "  features = features.join(z) #append new columns\n",
        "  features = features.drop(columns=[f]) # remove original not recoded column\n",
        "\n",
        "features.head()"
      ],
      "execution_count": null,
      "outputs": [
        {
          "output_type": "stream",
          "name": "stdout",
          "text": [
            "Parent Categorical Variable:  PTGENDER\n",
            "Parent Categorical Variable:  PTETHCAT\n",
            "Parent Categorical Variable:  PTRACCAT\n",
            "Parent Categorical Variable:  PTMARRY\n"
          ]
        },
        {
          "output_type": "execute_result",
          "data": {
            "text/plain": [
              "    AGE  PTEDUCAT  APOE4     Ventricles  Hippocampus    WholeBrain  \\\n",
              "0  84.8        18    1.0   43332.500000  6805.125000  1.071568e+06   \n",
              "1  76.3        16    0.0   31936.454545  6824.636364  1.055413e+06   \n",
              "2  79.3        16    1.0   38410.666667  7496.666667  1.092807e+06   \n",
              "3  77.5        12    2.0  120529.500000  5812.000000  1.093932e+06   \n",
              "4  89.6        16    0.0   40921.571429  7063.250000  9.800458e+05   \n",
              "\n",
              "    Entorhinal      Fusiform       MidTemp           ICV  ...  PTRACCAT_Black  \\\n",
              "0  3752.625000  17693.875000  19420.125000  1.649602e+06  ...           False   \n",
              "1  4131.090909  20095.909091  20235.545455  1.600009e+06  ...           False   \n",
              "2  3998.333333  18993.000000  22226.000000  1.703968e+06  ...           False   \n",
              "3  2773.000000  20675.000000  19959.000000  2.070530e+06  ...           False   \n",
              "4  3894.375000  14152.250000  18133.625000  1.521331e+06  ...           False   \n",
              "\n",
              "   PTRACCAT_Hawaiian/Other PI  PTRACCAT_More than one  PTRACCAT_Unknown  \\\n",
              "0                       False                   False             False   \n",
              "1                       False                   False             False   \n",
              "2                       False                   False             False   \n",
              "3                       False                   False             False   \n",
              "4                       False                   False             False   \n",
              "\n",
              "   PTRACCAT_White  PTMARRY_Divorced  PTMARRY_Married  PTMARRY_Never married  \\\n",
              "0            True             False             True                  False   \n",
              "1            True             False             True                  False   \n",
              "2            True             False            False                  False   \n",
              "3            True             False             True                  False   \n",
              "4            True             False             True                  False   \n",
              "\n",
              "   PTMARRY_Unknown  PTMARRY_Widowed  \n",
              "0            False            False  \n",
              "1            False            False  \n",
              "2            False             True  \n",
              "3            False            False  \n",
              "4            False            False  \n",
              "\n",
              "[5 rows x 27 columns]"
            ],
            "text/html": [
              "\n",
              "  <div id=\"df-101ae5ca-2ae3-4908-be44-4ac9d0bfe841\" class=\"colab-df-container\">\n",
              "    <div>\n",
              "<style scoped>\n",
              "    .dataframe tbody tr th:only-of-type {\n",
              "        vertical-align: middle;\n",
              "    }\n",
              "\n",
              "    .dataframe tbody tr th {\n",
              "        vertical-align: top;\n",
              "    }\n",
              "\n",
              "    .dataframe thead th {\n",
              "        text-align: right;\n",
              "    }\n",
              "</style>\n",
              "<table border=\"1\" class=\"dataframe\">\n",
              "  <thead>\n",
              "    <tr style=\"text-align: right;\">\n",
              "      <th></th>\n",
              "      <th>AGE</th>\n",
              "      <th>PTEDUCAT</th>\n",
              "      <th>APOE4</th>\n",
              "      <th>Ventricles</th>\n",
              "      <th>Hippocampus</th>\n",
              "      <th>WholeBrain</th>\n",
              "      <th>Entorhinal</th>\n",
              "      <th>Fusiform</th>\n",
              "      <th>MidTemp</th>\n",
              "      <th>ICV</th>\n",
              "      <th>...</th>\n",
              "      <th>PTRACCAT_Black</th>\n",
              "      <th>PTRACCAT_Hawaiian/Other PI</th>\n",
              "      <th>PTRACCAT_More than one</th>\n",
              "      <th>PTRACCAT_Unknown</th>\n",
              "      <th>PTRACCAT_White</th>\n",
              "      <th>PTMARRY_Divorced</th>\n",
              "      <th>PTMARRY_Married</th>\n",
              "      <th>PTMARRY_Never married</th>\n",
              "      <th>PTMARRY_Unknown</th>\n",
              "      <th>PTMARRY_Widowed</th>\n",
              "    </tr>\n",
              "  </thead>\n",
              "  <tbody>\n",
              "    <tr>\n",
              "      <th>0</th>\n",
              "      <td>84.8</td>\n",
              "      <td>18</td>\n",
              "      <td>1.0</td>\n",
              "      <td>43332.500000</td>\n",
              "      <td>6805.125000</td>\n",
              "      <td>1.071568e+06</td>\n",
              "      <td>3752.625000</td>\n",
              "      <td>17693.875000</td>\n",
              "      <td>19420.125000</td>\n",
              "      <td>1.649602e+06</td>\n",
              "      <td>...</td>\n",
              "      <td>False</td>\n",
              "      <td>False</td>\n",
              "      <td>False</td>\n",
              "      <td>False</td>\n",
              "      <td>True</td>\n",
              "      <td>False</td>\n",
              "      <td>True</td>\n",
              "      <td>False</td>\n",
              "      <td>False</td>\n",
              "      <td>False</td>\n",
              "    </tr>\n",
              "    <tr>\n",
              "      <th>1</th>\n",
              "      <td>76.3</td>\n",
              "      <td>16</td>\n",
              "      <td>0.0</td>\n",
              "      <td>31936.454545</td>\n",
              "      <td>6824.636364</td>\n",
              "      <td>1.055413e+06</td>\n",
              "      <td>4131.090909</td>\n",
              "      <td>20095.909091</td>\n",
              "      <td>20235.545455</td>\n",
              "      <td>1.600009e+06</td>\n",
              "      <td>...</td>\n",
              "      <td>False</td>\n",
              "      <td>False</td>\n",
              "      <td>False</td>\n",
              "      <td>False</td>\n",
              "      <td>True</td>\n",
              "      <td>False</td>\n",
              "      <td>True</td>\n",
              "      <td>False</td>\n",
              "      <td>False</td>\n",
              "      <td>False</td>\n",
              "    </tr>\n",
              "    <tr>\n",
              "      <th>2</th>\n",
              "      <td>79.3</td>\n",
              "      <td>16</td>\n",
              "      <td>1.0</td>\n",
              "      <td>38410.666667</td>\n",
              "      <td>7496.666667</td>\n",
              "      <td>1.092807e+06</td>\n",
              "      <td>3998.333333</td>\n",
              "      <td>18993.000000</td>\n",
              "      <td>22226.000000</td>\n",
              "      <td>1.703968e+06</td>\n",
              "      <td>...</td>\n",
              "      <td>False</td>\n",
              "      <td>False</td>\n",
              "      <td>False</td>\n",
              "      <td>False</td>\n",
              "      <td>True</td>\n",
              "      <td>False</td>\n",
              "      <td>False</td>\n",
              "      <td>False</td>\n",
              "      <td>False</td>\n",
              "      <td>True</td>\n",
              "    </tr>\n",
              "    <tr>\n",
              "      <th>3</th>\n",
              "      <td>77.5</td>\n",
              "      <td>12</td>\n",
              "      <td>2.0</td>\n",
              "      <td>120529.500000</td>\n",
              "      <td>5812.000000</td>\n",
              "      <td>1.093932e+06</td>\n",
              "      <td>2773.000000</td>\n",
              "      <td>20675.000000</td>\n",
              "      <td>19959.000000</td>\n",
              "      <td>2.070530e+06</td>\n",
              "      <td>...</td>\n",
              "      <td>False</td>\n",
              "      <td>False</td>\n",
              "      <td>False</td>\n",
              "      <td>False</td>\n",
              "      <td>True</td>\n",
              "      <td>False</td>\n",
              "      <td>True</td>\n",
              "      <td>False</td>\n",
              "      <td>False</td>\n",
              "      <td>False</td>\n",
              "    </tr>\n",
              "    <tr>\n",
              "      <th>4</th>\n",
              "      <td>89.6</td>\n",
              "      <td>16</td>\n",
              "      <td>0.0</td>\n",
              "      <td>40921.571429</td>\n",
              "      <td>7063.250000</td>\n",
              "      <td>9.800458e+05</td>\n",
              "      <td>3894.375000</td>\n",
              "      <td>14152.250000</td>\n",
              "      <td>18133.625000</td>\n",
              "      <td>1.521331e+06</td>\n",
              "      <td>...</td>\n",
              "      <td>False</td>\n",
              "      <td>False</td>\n",
              "      <td>False</td>\n",
              "      <td>False</td>\n",
              "      <td>True</td>\n",
              "      <td>False</td>\n",
              "      <td>True</td>\n",
              "      <td>False</td>\n",
              "      <td>False</td>\n",
              "      <td>False</td>\n",
              "    </tr>\n",
              "  </tbody>\n",
              "</table>\n",
              "<p>5 rows × 27 columns</p>\n",
              "</div>\n",
              "    <div class=\"colab-df-buttons\">\n",
              "\n",
              "  <div class=\"colab-df-container\">\n",
              "    <button class=\"colab-df-convert\" onclick=\"convertToInteractive('df-101ae5ca-2ae3-4908-be44-4ac9d0bfe841')\"\n",
              "            title=\"Convert this dataframe to an interactive table.\"\n",
              "            style=\"display:none;\">\n",
              "\n",
              "  <svg xmlns=\"http://www.w3.org/2000/svg\" height=\"24px\" viewBox=\"0 -960 960 960\">\n",
              "    <path d=\"M120-120v-720h720v720H120Zm60-500h600v-160H180v160Zm220 220h160v-160H400v160Zm0 220h160v-160H400v160ZM180-400h160v-160H180v160Zm440 0h160v-160H620v160ZM180-180h160v-160H180v160Zm440 0h160v-160H620v160Z\"/>\n",
              "  </svg>\n",
              "    </button>\n",
              "\n",
              "  <style>\n",
              "    .colab-df-container {\n",
              "      display:flex;\n",
              "      gap: 12px;\n",
              "    }\n",
              "\n",
              "    .colab-df-convert {\n",
              "      background-color: #E8F0FE;\n",
              "      border: none;\n",
              "      border-radius: 50%;\n",
              "      cursor: pointer;\n",
              "      display: none;\n",
              "      fill: #1967D2;\n",
              "      height: 32px;\n",
              "      padding: 0 0 0 0;\n",
              "      width: 32px;\n",
              "    }\n",
              "\n",
              "    .colab-df-convert:hover {\n",
              "      background-color: #E2EBFA;\n",
              "      box-shadow: 0px 1px 2px rgba(60, 64, 67, 0.3), 0px 1px 3px 1px rgba(60, 64, 67, 0.15);\n",
              "      fill: #174EA6;\n",
              "    }\n",
              "\n",
              "    .colab-df-buttons div {\n",
              "      margin-bottom: 4px;\n",
              "    }\n",
              "\n",
              "    [theme=dark] .colab-df-convert {\n",
              "      background-color: #3B4455;\n",
              "      fill: #D2E3FC;\n",
              "    }\n",
              "\n",
              "    [theme=dark] .colab-df-convert:hover {\n",
              "      background-color: #434B5C;\n",
              "      box-shadow: 0px 1px 3px 1px rgba(0, 0, 0, 0.15);\n",
              "      filter: drop-shadow(0px 1px 2px rgba(0, 0, 0, 0.3));\n",
              "      fill: #FFFFFF;\n",
              "    }\n",
              "  </style>\n",
              "\n",
              "    <script>\n",
              "      const buttonEl =\n",
              "        document.querySelector('#df-101ae5ca-2ae3-4908-be44-4ac9d0bfe841 button.colab-df-convert');\n",
              "      buttonEl.style.display =\n",
              "        google.colab.kernel.accessAllowed ? 'block' : 'none';\n",
              "\n",
              "      async function convertToInteractive(key) {\n",
              "        const element = document.querySelector('#df-101ae5ca-2ae3-4908-be44-4ac9d0bfe841');\n",
              "        const dataTable =\n",
              "          await google.colab.kernel.invokeFunction('convertToInteractive',\n",
              "                                                    [key], {});\n",
              "        if (!dataTable) return;\n",
              "\n",
              "        const docLinkHtml = 'Like what you see? Visit the ' +\n",
              "          '<a target=\"_blank\" href=https://colab.research.google.com/notebooks/data_table.ipynb>data table notebook</a>'\n",
              "          + ' to learn more about interactive tables.';\n",
              "        element.innerHTML = '';\n",
              "        dataTable['output_type'] = 'display_data';\n",
              "        await google.colab.output.renderOutput(dataTable, element);\n",
              "        const docLink = document.createElement('div');\n",
              "        docLink.innerHTML = docLinkHtml;\n",
              "        element.appendChild(docLink);\n",
              "      }\n",
              "    </script>\n",
              "  </div>\n",
              "\n",
              "\n",
              "<div id=\"df-38f356d2-d3e7-4e95-9a87-96a2a179c7b0\">\n",
              "  <button class=\"colab-df-quickchart\" onclick=\"quickchart('df-38f356d2-d3e7-4e95-9a87-96a2a179c7b0')\"\n",
              "            title=\"Suggest charts\"\n",
              "            style=\"display:none;\">\n",
              "\n",
              "<svg xmlns=\"http://www.w3.org/2000/svg\" height=\"24px\"viewBox=\"0 0 24 24\"\n",
              "     width=\"24px\">\n",
              "    <g>\n",
              "        <path d=\"M19 3H5c-1.1 0-2 .9-2 2v14c0 1.1.9 2 2 2h14c1.1 0 2-.9 2-2V5c0-1.1-.9-2-2-2zM9 17H7v-7h2v7zm4 0h-2V7h2v10zm4 0h-2v-4h2v4z\"/>\n",
              "    </g>\n",
              "</svg>\n",
              "  </button>\n",
              "\n",
              "<style>\n",
              "  .colab-df-quickchart {\n",
              "      --bg-color: #E8F0FE;\n",
              "      --fill-color: #1967D2;\n",
              "      --hover-bg-color: #E2EBFA;\n",
              "      --hover-fill-color: #174EA6;\n",
              "      --disabled-fill-color: #AAA;\n",
              "      --disabled-bg-color: #DDD;\n",
              "  }\n",
              "\n",
              "  [theme=dark] .colab-df-quickchart {\n",
              "      --bg-color: #3B4455;\n",
              "      --fill-color: #D2E3FC;\n",
              "      --hover-bg-color: #434B5C;\n",
              "      --hover-fill-color: #FFFFFF;\n",
              "      --disabled-bg-color: #3B4455;\n",
              "      --disabled-fill-color: #666;\n",
              "  }\n",
              "\n",
              "  .colab-df-quickchart {\n",
              "    background-color: var(--bg-color);\n",
              "    border: none;\n",
              "    border-radius: 50%;\n",
              "    cursor: pointer;\n",
              "    display: none;\n",
              "    fill: var(--fill-color);\n",
              "    height: 32px;\n",
              "    padding: 0;\n",
              "    width: 32px;\n",
              "  }\n",
              "\n",
              "  .colab-df-quickchart:hover {\n",
              "    background-color: var(--hover-bg-color);\n",
              "    box-shadow: 0 1px 2px rgba(60, 64, 67, 0.3), 0 1px 3px 1px rgba(60, 64, 67, 0.15);\n",
              "    fill: var(--button-hover-fill-color);\n",
              "  }\n",
              "\n",
              "  .colab-df-quickchart-complete:disabled,\n",
              "  .colab-df-quickchart-complete:disabled:hover {\n",
              "    background-color: var(--disabled-bg-color);\n",
              "    fill: var(--disabled-fill-color);\n",
              "    box-shadow: none;\n",
              "  }\n",
              "\n",
              "  .colab-df-spinner {\n",
              "    border: 2px solid var(--fill-color);\n",
              "    border-color: transparent;\n",
              "    border-bottom-color: var(--fill-color);\n",
              "    animation:\n",
              "      spin 1s steps(1) infinite;\n",
              "  }\n",
              "\n",
              "  @keyframes spin {\n",
              "    0% {\n",
              "      border-color: transparent;\n",
              "      border-bottom-color: var(--fill-color);\n",
              "      border-left-color: var(--fill-color);\n",
              "    }\n",
              "    20% {\n",
              "      border-color: transparent;\n",
              "      border-left-color: var(--fill-color);\n",
              "      border-top-color: var(--fill-color);\n",
              "    }\n",
              "    30% {\n",
              "      border-color: transparent;\n",
              "      border-left-color: var(--fill-color);\n",
              "      border-top-color: var(--fill-color);\n",
              "      border-right-color: var(--fill-color);\n",
              "    }\n",
              "    40% {\n",
              "      border-color: transparent;\n",
              "      border-right-color: var(--fill-color);\n",
              "      border-top-color: var(--fill-color);\n",
              "    }\n",
              "    60% {\n",
              "      border-color: transparent;\n",
              "      border-right-color: var(--fill-color);\n",
              "    }\n",
              "    80% {\n",
              "      border-color: transparent;\n",
              "      border-right-color: var(--fill-color);\n",
              "      border-bottom-color: var(--fill-color);\n",
              "    }\n",
              "    90% {\n",
              "      border-color: transparent;\n",
              "      border-bottom-color: var(--fill-color);\n",
              "    }\n",
              "  }\n",
              "</style>\n",
              "\n",
              "  <script>\n",
              "    async function quickchart(key) {\n",
              "      const quickchartButtonEl =\n",
              "        document.querySelector('#' + key + ' button');\n",
              "      quickchartButtonEl.disabled = true;  // To prevent multiple clicks.\n",
              "      quickchartButtonEl.classList.add('colab-df-spinner');\n",
              "      try {\n",
              "        const charts = await google.colab.kernel.invokeFunction(\n",
              "            'suggestCharts', [key], {});\n",
              "      } catch (error) {\n",
              "        console.error('Error during call to suggestCharts:', error);\n",
              "      }\n",
              "      quickchartButtonEl.classList.remove('colab-df-spinner');\n",
              "      quickchartButtonEl.classList.add('colab-df-quickchart-complete');\n",
              "    }\n",
              "    (() => {\n",
              "      let quickchartButtonEl =\n",
              "        document.querySelector('#df-38f356d2-d3e7-4e95-9a87-96a2a179c7b0 button');\n",
              "      quickchartButtonEl.style.display =\n",
              "        google.colab.kernel.accessAllowed ? 'block' : 'none';\n",
              "    })();\n",
              "  </script>\n",
              "</div>\n",
              "\n",
              "    </div>\n",
              "  </div>\n"
            ],
            "application/vnd.google.colaboratory.intrinsic+json": {
              "type": "dataframe",
              "variable_name": "features"
            }
          },
          "metadata": {},
          "execution_count": 21
        }
      ]
    },
    {
      "cell_type": "markdown",
      "source": [
        "## Task 3: Categorical data\n",
        "What type of Categorical variables are we dealing with in our current dataset? Are they ordered or unordered? how many levels does each category have?"
      ],
      "metadata": {
        "id": "R9x46KixOLXS"
      }
    },
    {
      "cell_type": "markdown",
      "source": [
        "**Answer for question 3**"
      ],
      "metadata": {
        "id": "YdD16aswPXDS"
      }
    },
    {
      "cell_type": "markdown",
      "metadata": {
        "id": "oUdDTLcffKvr"
      },
      "source": [
        "Now that we cleaned up the data, it's good to **save the data frame** we now have."
      ]
    },
    {
      "cell_type": "code",
      "metadata": {
        "id": "gdm1_vIWfJfb",
        "outputId": "9eb74000-968a-4e5e-c53a-2504700aac66",
        "colab": {
          "base_uri": "https://localhost:8080/",
          "height": 17
        }
      },
      "source": [
        "# code to save our current dataframe as a csv file\n",
        "features.to_csv('PatData_cleaned_one_hot_encoded.csv', index=False)\n",
        "# code to download our csv file into your own computer\n",
        "files.download('PatData_cleaned_one_hot_encoded.csv')"
      ],
      "execution_count": null,
      "outputs": [
        {
          "output_type": "display_data",
          "data": {
            "text/plain": [
              "<IPython.core.display.Javascript object>"
            ],
            "application/javascript": [
              "\n",
              "    async function download(id, filename, size) {\n",
              "      if (!google.colab.kernel.accessAllowed) {\n",
              "        return;\n",
              "      }\n",
              "      const div = document.createElement('div');\n",
              "      const label = document.createElement('label');\n",
              "      label.textContent = `Downloading \"${filename}\": `;\n",
              "      div.appendChild(label);\n",
              "      const progress = document.createElement('progress');\n",
              "      progress.max = size;\n",
              "      div.appendChild(progress);\n",
              "      document.body.appendChild(div);\n",
              "\n",
              "      const buffers = [];\n",
              "      let downloaded = 0;\n",
              "\n",
              "      const channel = await google.colab.kernel.comms.open(id);\n",
              "      // Send a message to notify the kernel that we're ready.\n",
              "      channel.send({})\n",
              "\n",
              "      for await (const message of channel.messages) {\n",
              "        // Send a message to notify the kernel that we're ready.\n",
              "        channel.send({})\n",
              "        if (message.buffers) {\n",
              "          for (const buffer of message.buffers) {\n",
              "            buffers.push(buffer);\n",
              "            downloaded += buffer.byteLength;\n",
              "            progress.value = downloaded;\n",
              "          }\n",
              "        }\n",
              "      }\n",
              "      const blob = new Blob(buffers, {type: 'application/binary'});\n",
              "      const a = document.createElement('a');\n",
              "      a.href = window.URL.createObjectURL(blob);\n",
              "      a.download = filename;\n",
              "      div.appendChild(a);\n",
              "      a.click();\n",
              "      div.remove();\n",
              "    }\n",
              "  "
            ]
          },
          "metadata": {}
        },
        {
          "output_type": "display_data",
          "data": {
            "text/plain": [
              "<IPython.core.display.Javascript object>"
            ],
            "application/javascript": [
              "download(\"download_f514ab02-d117-4ef1-876f-dbd49f575451\", \"PatData_cleaned_one_hot_encoded.csv\", 270068)"
            ]
          },
          "metadata": {}
        }
      ]
    },
    {
      "cell_type": "markdown",
      "source": [
        "##Random Forest with one-Hot Encoded Data\n",
        "\n",
        "Similar to previous modules we can go ahead and prepare our data for training a Random Forest."
      ],
      "metadata": {
        "id": "Tba51GsH2eQF"
      }
    },
    {
      "cell_type": "code",
      "metadata": {
        "id": "DPd3df_Li5uV"
      },
      "source": [
        "# Separating data into training and testing\n",
        "features_train, features_test, labels_train, labels_test = train_test_split(features, labels, test_size=0.3, random_state=42) # 70% training and 30% test\n",
        "\n",
        "# Creating Random Forest object\n",
        "rf = RandomForestClassifier(n_estimators = 100, max_features = \"sqrt\", bootstrap = True, random_state = 42)\n",
        "\n",
        "# Training your Random Forest\n",
        "rf.fit(features_train, labels_train)\n",
        "\n",
        "#Predict the response for test dataset\n",
        "labels_pred = rf.predict(features_test)"
      ],
      "execution_count": null,
      "outputs": []
    },
    {
      "cell_type": "markdown",
      "source": [
        "Let's take a peak at how our model has performed at least for the first 10 patients of our testing data."
      ],
      "metadata": {
        "id": "b9Knrh2g3ql4"
      }
    },
    {
      "cell_type": "code",
      "metadata": {
        "id": "5f1Ner7bjRT8",
        "outputId": "feff1bbb-23ee-456a-e2d5-117761076e3d",
        "colab": {
          "base_uri": "https://localhost:8080/"
        }
      },
      "source": [
        "# Look at the predicted values.\n",
        "print(labels_pred[:10])\n",
        "# And the real values.\n",
        "print(labels_test.to_numpy(dtype=object)[:10])\n",
        "#See how many correct predictions there are among the first 10 patients."
      ],
      "execution_count": null,
      "outputs": [
        {
          "output_type": "stream",
          "name": "stdout",
          "text": [
            "['Dementia' 'MCI' 'NL' 'Dementia' 'NL' 'Dementia' 'NL' 'MCI' 'NL' 'MCI']\n",
            "['Dementia' 'MCI' 'NL' 'Dementia' 'MCI' 'Dementia' 'NL' 'MCI' 'MCI' 'MCI']\n"
          ]
        }
      ]
    },
    {
      "cell_type": "code",
      "source": [
        "# Showing the confusin matrix for our Decision tree results\n",
        "print(metrics.confusion_matrix(labels_test, labels_pred))\n",
        "plt2 = metrics.ConfusionMatrixDisplay.from_estimator(rf, features_test, labels_test)\n",
        "plt.grid(False)"
      ],
      "metadata": {
        "id": "ykoJPf864IJC",
        "outputId": "0327f9f3-aa40-47e8-ea10-b5d1f177d34b",
        "colab": {
          "base_uri": "https://localhost:8080/",
          "height": 501
        }
      },
      "execution_count": null,
      "outputs": [
        {
          "output_type": "stream",
          "name": "stdout",
          "text": [
            "[[131  36   6]\n",
            " [ 25  92  41]\n",
            " [  5  46  62]]\n"
          ]
        },
        {
          "output_type": "display_data",
          "data": {
            "text/plain": [
              "<Figure size 640x480 with 2 Axes>"
            ],
            "image/png": "[encoded data removed]"
          },
          "metadata": {}
        }
      ]
    },
    {
      "cell_type": "markdown",
      "source": [
        "Unlike our other Confusion Matrices, this time we have a 3 by 3 matrix. So this time what we want is for the main diagonal to show us the bigger numbers. What do you think? What diagnosis got the best results?"
      ],
      "metadata": {
        "id": "y7zURXZM7Lnp"
      }
    },
    {
      "cell_type": "markdown",
      "source": [
        "##Task 4: Write what you noticed about the confusion matrix here!"
      ],
      "metadata": {
        "id": "F_EsIe_68bPO"
      }
    },
    {
      "cell_type": "markdown",
      "source": [
        "#5) Feature importance\n",
        "\n",
        "Just like in the heart disease notebook, we will now look at the feature importance for the random forest model.\n",
        "\n",
        "As a reminder: Visualizing your results is always an important part of any data science project. Now that we have a random forest based on 1000 random trees, we cannot easily visualize all the trees at once like we did for the decision tree, because it would be an overwhelming set of diagrams. But we can visualize the feature importance. I've seen this kind of plot in published articles. I like it because it helps us understand which features are most important for making predictions.\n",
        "\n",
        "Feature importance is a measurement of how each feature decreases the amount of impurity (Gini index) in a node, weighted by the probability of reaching that node. The higher the value the more important the feature. This is usually calculated for each tree in the random forest and then averaged over the total number of trees. The graph below shows these averages."
      ],
      "metadata": {
        "id": "K7S78Iii8hE_"
      }
    },
    {
      "cell_type": "code",
      "metadata": {
        "id": "rdsCNF6N1k4Z"
      },
      "source": [
        "# calculating feature importance\n",
        "importance = rf.feature_importances_\n",
        "\n",
        "# summarize feature importance\n",
        "names = features.columns.to_numpy(dtype=object)\n",
        "\n",
        "# Creating a dataframe\n",
        "importanceDF = pd.DataFrame({'names':names, 'importance':importance})"
      ],
      "execution_count": null,
      "outputs": []
    },
    {
      "cell_type": "code",
      "metadata": {
        "id": "O255gMjX2BE8",
        "outputId": "ddfb2b4f-268c-44c5-8c54-8ca182077a8b",
        "colab": {
          "base_uri": "https://localhost:8080/",
          "height": 639
        }
      },
      "source": [
        "#Sort the dataframe based on importance\n",
        "importanceDF = importanceDF.sort_values(by=['importance'])\n",
        "\n",
        "# Plotting feature importance\n",
        "importanceDF.plot.barh(x='names', y='importance', figsize = (7,7), title = \"Feature importance\")"
      ],
      "execution_count": null,
      "outputs": [
        {
          "output_type": "execute_result",
          "data": {
            "text/plain": [
              "<Axes: title={'center': 'Feature importance'}, ylabel='names'>"
            ]
          },
          "metadata": {},
          "execution_count": 27
        },
        {
          "output_type": "display_data",
          "data": {
            "text/plain": [
              "<Figure size 700x700 with 1 Axes>"
            ],
            "image/png": "[encoded data removed]"
          },
          "metadata": {}
        }
      ]
    },
    {
      "cell_type": "markdown",
      "metadata": {
        "id": "il8kv9uZDcda"
      },
      "source": [
        "## Task 4:\n",
        "\n",
        "Look at the pandas documentation pages and make at least two changes to the plot (e.g. colors, width, size, legend etc)\n",
        "\n",
        "https://pandas.pydata.org/docs/reference/api/pandas.DataFrame.plot.html\n",
        "\n",
        "https://pandas.pydata.org/docs/reference/api/pandas.DataFrame.plot.barh.html"
      ]
    },
    {
      "cell_type": "markdown",
      "metadata": {
        "id": "yprdyqX_kA5B"
      },
      "source": [
        "## Task 5: on Accuracy\n",
        "\n",
        "In addition to a confusion matrix, it is also good to have an accuracy score.\n",
        "\n",
        "a. From sklearn.metrics import the function accuracy_score.\n",
        "\n",
        "b. Use the accuracy_score function to calculate the accuracy of the RF model.\n",
        "\n",
        "c. Once you have stored the accuracy in a variable called accuracy,\n",
        "you can run print(\"Accuracy: %.2f%%\" % (accuracy * 100)). Alternatively, you can use the \"round\" function to round off the accuracy to the desired number of decimals.\n",
        "\n",
        "d. See what happens if you change the 2f into 1f or 3f.\n",
        "\n",
        "e. What level of accuracy is useful for doctors and patients do you think?\n",
        "\n",
        "f. Look at the feature importance bar plot. Compare with your predictions from earlier in the notebook. Were you right or wrong in your predictions? Explain.\n"
      ]
    },
    {
      "cell_type": "code",
      "metadata": {
        "id": "XI1wRB5dgphZ"
      },
      "source": [
        "# Calculate the accuracy using your code!\n"
      ],
      "execution_count": null,
      "outputs": []
    },
    {
      "cell_type": "markdown",
      "source": [
        "**Answer written question 5 here!**"
      ],
      "metadata": {
        "id": "u5RJbEl8-id2"
      }
    },
    {
      "cell_type": "markdown",
      "metadata": {
        "id": "oF2TBpMg6c36"
      },
      "source": [
        "# Conclusion of this part\n",
        "What we can see is that the volumes of the parts of the brain are most important, starting with the hippocampus. Gender, race and ethnicity seem least important out of the features we looked at. For race and ethnicity this may be because the data almost entirely consists of non-hispanic whites."
      ]
    }
  ]
}
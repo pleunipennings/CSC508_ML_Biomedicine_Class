{
  "nbformat": 4,
  "nbformat_minor": 0,
  "metadata": {
    "colab": {
      "provenance": [],
      "toc_visible": true,
      "include_colab_link": true
    },
    "kernelspec": {
      "name": "python3",
      "display_name": "Python 3"
    },
    "language_info": {
      "name": "python"
    }
  },
  "cells": [
    {
      "cell_type": "markdown",
      "metadata": {
        "id": "view-in-github",
        "colab_type": "text"
      },
      "source": [
        "<a href=\"https://colab.research.google.com/github/pleunipennings/CSC508_ML_Biomedicine_Class/blob/main/Module4/Module_4a_PatData_ExploratoryDataAnalysis.ipynb\" target=\"_parent\"><img src=\"https://colab.research.google.com/assets/colab-badge.svg\" alt=\"Open In Colab\"/></a>"
      ]
    },
    {
      "cell_type": "markdown",
      "source": [
        "Module 4A, working with the ADNI dataset\n",
        "\n",
        "Many people are affected by Alzheimers (the Alzheimer’s Association estimates 6 million patients and 11 million unpaid caregivers in the US, see [link](https://www.google.com/url?q=https%3A%2F%2Fwww.alz.org%2Falzheimers-dementia%2Ffacts-figures))\n",
        "\n",
        "Here is some information, written by Dr Raven Baxter [link text](https://www.google.com/url?q=https%3A%2F%2Fthreadreaderapp.com%2Fthread%2F1380339786515423232.html)\n",
        "\n",
        "Have a look at this short video on [youtube](https://www.youtube.com/watch?v=Eq_Er-tqPsA)\n"
      ],
      "metadata": {
        "id": "aaYvRvNuChUK"
      }
    },
    {
      "cell_type": "markdown",
      "metadata": {
        "id": "d236RArCWbrG"
      },
      "source": [
        "# Exploratory data analysis of PatData ADNI dataset\n",
        "\n",
        "First, we are going to look at the data for this module.\n",
        "\n",
        "We will be making some plots using the [plotnine library](https://plotnine.readthedocs.io/en/stable/gallery.html). The plotnine library is based on ggplot2 used when programming in R; the following short video here reviews the syntax of ggplot: https://www.youtube.com/watch?v=FdVy57oGJuc&t=55s&ab_channel=RforEcology\n",
        "\n",
        "\n",
        "Here is a guide on 'Data Analysis and Visualization in Python for Ecologists' using this plotnine. Guide: https://datacarpentry.github.io/python-ecology-lesson/07-visualization-ggplot-python.html\n",
        "\n",
        "Here is a nice guide on Exploratory data analysis and Python plotting libraries. You can click through to compare how certain plots would look depending on the library (Different libraries: pandas, plotnine, plotly, and Altair) https://pythonplot.com/\n",
        "\n"
      ]
    },
    {
      "cell_type": "markdown",
      "metadata": {
        "id": "SdEckvj_sFGS"
      },
      "source": [
        "# Loading the data and Importing packages\n"
      ]
    },
    {
      "cell_type": "code",
      "metadata": {
        "id": "UE7bhEjyOX5v"
      },
      "source": [
        "# importing packages for exploratory analysis\n",
        "import pandas as pd\n",
        "import warnings\n",
        "from pandas.api.types import CategoricalDtype\n",
        "import numpy as np\n",
        "from plotnine import *"
      ],
      "execution_count": null,
      "outputs": []
    },
    {
      "cell_type": "markdown",
      "metadata": {
        "id": "dyJs2tzeW36Y"
      },
      "source": [
        "Read the dataset \"PatData.csv\" from GitHub.\n"
      ]
    },
    {
      "cell_type": "code",
      "metadata": {
        "id": "uoG8cVKFW2nH"
      },
      "source": [
        "# Reading and taking a peak of the data\n",
        "url = \"https://raw.githubusercontent.com/pleunipennings/CSC508Data/main/PatData.csv\"\n",
        "Pat_data = pd.read_csv(url)\n",
        "Pat_data.head()"
      ],
      "execution_count": null,
      "outputs": []
    },
    {
      "cell_type": "markdown",
      "metadata": {
        "id": "XbJAtv2vMcs0"
      },
      "source": [
        "# Looking at a single variable\n",
        "\n",
        "## Discrete variables vs Continuous variables\n",
        "Here is a short read on how you can tell the difference between discrete and continuos variables. We will also be discussing it in the next few steps with examples. https://www.statisticshowto.com/probability-and-statistics/statistics-definitions/discrete-vs-continuous-variables/"
      ]
    },
    {
      "cell_type": "markdown",
      "metadata": {
        "id": "r6VHzybtz1ym"
      },
      "source": [
        "## Discrete variables\n",
        "What is a discrete variable?\n",
        "\n",
        "A **discrete variable** is a variable whose value is  countable in a finite amount of time. For example, you can count the change in your pocket or the number of students present in your class. **Barplots** are a useful graphical representation for discrete data.\n",
        "\n",
        "In our dataset, the 'Diagnosis' column is an example of a discrete variable because you can count the number of patients who may not be diagnosed with Dementia or those who may have a Mild Cognitive Impairment."
      ]
    },
    {
      "cell_type": "code",
      "metadata": {
        "id": "PYBqdMeUsBsq"
      },
      "source": [
        "# Making a Barplot\n",
        "(ggplot(data=Pat_data) +\n",
        " aes(x='DX') +\n",
        " geom_bar() +\n",
        " labs(x = \"Diagnosis\")\n",
        " )"
      ],
      "execution_count": null,
      "outputs": []
    },
    {
      "cell_type": "markdown",
      "metadata": {
        "id": "BqNXTobGwZwu"
      },
      "source": [
        "Initially, the x-axis is hard to read, so let’s change that by adding an argument that rotates the text.\n"
      ]
    },
    {
      "cell_type": "code",
      "metadata": {
        "id": "wTCZqJnvrvlI"
      },
      "source": [
        "# Correcting x labels for barplot\n",
        "(ggplot(data=Pat_data) +\n",
        " aes(x='DX') +\n",
        " geom_bar() +\n",
        " labs(x = \"Diagnosis\") +\n",
        " theme(axis_text_x=element_text(rotation=90, hjust=1))\n",
        " )"
      ],
      "execution_count": null,
      "outputs": []
    },
    {
      "cell_type": "markdown",
      "metadata": {
        "id": "ju5_FgXOwqPF"
      },
      "source": [
        "## Task 1: Barplots\n",
        "\n",
        "Which other variables could you plot in a barplot? Create a few plots!\n",
        "One common concern for research studies in the US is that most participants are white. You could use a barplot to look at the PTRACCAT variable.\n"
      ]
    },
    {
      "cell_type": "code",
      "source": [
        "# Create a barplot below using code for a variable of your choice and for the variable PTRACCAT!"
      ],
      "metadata": {
        "id": "eyVGFRpdEj9t"
      },
      "execution_count": null,
      "outputs": []
    },
    {
      "cell_type": "markdown",
      "metadata": {
        "id": "h5YBxlXOz5my"
      },
      "source": [
        "## Continuous variables\n",
        "\n",
        "What is a continuous variable?\n",
        "\n",
        "A **continuous variable** is a variable whose value is  measured which can take any value. For example, time is a continuous variable that keeps going on forever. Other examples of a continuous variable are distance, age and temperature. **Area Plots** are more useful for Continuous variables, since it can represent data that contains decimal points.\n",
        "\n",
        "In our dataset, the 'AGE' column is an example of a continuous variable. There is a decimal point in the age to try to capture not just the years but also months.\n",
        "\n",
        "When you're using data visualizations like area plots or histograms, you'll need to specify bins. Area plots and histograms display numerical data by grouping data into \"bins\" of equal width. We will show you some examples and how to change the size.\n",
        "\n",
        "In the area plot for AGE, we have only specified the 'x-axis' in the aesthetic mapping function `aes()`. So we need to add the argument `stat='bin'` in the `geom_area()` or `geom_histogram()` function we because didn't specify a column for 'y' in the data. By setting `stat='bin'` (a default setting), it will count the data."
      ]
    },
    {
      "cell_type": "code",
      "metadata": {
        "id": "xu4e14E7MW7E"
      },
      "source": [
        "# displaying a density plot or area plot\n",
        "(ggplot(data=Pat_data) +\n",
        " aes(x='AGE') +\n",
        " geom_area(stat='bin')\n",
        " )"
      ],
      "execution_count": null,
      "outputs": []
    },
    {
      "cell_type": "markdown",
      "metadata": {
        "id": "xqGp61oK3qpn"
      },
      "source": [
        "# Discrete or Continuous?\n",
        "\n",
        "We can deal with continuous variables by turning it into a discrete variable. For instance, age could be turned into a discrete variable such as how many years old you are. You can say you are 25 years old instead of 25 years, 10 months, 2 days, 5 hours, 4 seconds, 4 milliseconds, 8 nanoseconds, 99 picoseconds…and so on. On the other hand you can also sometimes turn categorical variables into continous ones as well. For example for Diagnosis, we could have measured the amount of Cognitive Impairment in terms of points of an exam that evaluates impairment rather than a specific category. Variables can be either depending on how you conceive them!\n",
        "\n",
        "Here for example, we are plotting the patient's education level. In this column, 12 years will generally refer to high school, 16 years will be college, etc. We could have conceived it as continuous, or categorically as finished high school, finished college or finished advanced degree.\n",
        "\n",
        "Something different in this plot is that we have added the argument \"`binwidth = 1`\". As we mentioned earlier, in these types of plots, it groups data into \"bins\" and we are now giving the bins a size/width. In this example, the binwidth is 1, so it's giving a count for education years 10-11, 11-12, 12-13, etc. If you change the size to 3, the count would be for years 10-13 and 13-16. You would see a change in how the graph looks.\n",
        "\n",
        "Here is a short read to under stand more about histograms, bins, and binwidth.\n",
        "https://www.khanacademy.org/math/statistics-probability/displaying-describing-data/quantitative-data-graphs/a/histograms-review"
      ]
    },
    {
      "cell_type": "code",
      "metadata": {
        "id": "InnBkDo-nXt3"
      },
      "source": [
        "# Displaying as density plot or area plot\n",
        "(ggplot(data=Pat_data) +\n",
        " aes(x='PTEDUCAT') +\n",
        " geom_area(stat = \"bin\", binwidth = 1)\n",
        " )"
      ],
      "execution_count": null,
      "outputs": []
    },
    {
      "cell_type": "markdown",
      "metadata": {
        "id": "HgFL3lGI60V2"
      },
      "source": [
        "In this graph, we are using the `geom_histogram()` function and specifying the number of bins.\n",
        "\n",
        "We specified that in this histogram, we want to see the data divided into 10 bins. If you count the number of rectangles/bars, you'll see that there are 10 bins.\n",
        "\n",
        "If the max education option is 20 years and we divided the data into 10 bins, that means it's taking a count for every 2 years.\n",
        "\n",
        "You can also choose to use `geom_histogram(stat='bin')` like we did for the `geom_area()` plots but it may give you a warning that it's using default setting and that you should \"*Pick better value with 'binwidth'*\""
      ]
    },
    {
      "cell_type": "code",
      "metadata": {
        "id": "etZYtqQZnG-y"
      },
      "source": [
        "# diplaying it as bars stacked together similar to barplot but all stuck together\n",
        "(ggplot(data=Pat_data) +\n",
        " aes(x='PTEDUCAT') +\n",
        " geom_histogram(bins=10)\n",
        " )"
      ],
      "execution_count": null,
      "outputs": []
    },
    {
      "cell_type": "markdown",
      "metadata": {
        "id": "cn8iawWjoHBy"
      },
      "source": [
        "## Task 2: Plotting  brain volume variables\n",
        "\n",
        "Have a look at a few of the brain volume variables (i.e. 'WholeBrain' = whole brain volume or 'ICV' = intracranial volume). What is the most common intracranial volume in the dataset? Make a plot to find out.\n"
      ]
    },
    {
      "cell_type": "code",
      "source": [
        "#Make a plot to look at the distribution of brain volumes."
      ],
      "metadata": {
        "id": "xw0tCmZ6DueB"
      },
      "execution_count": null,
      "outputs": []
    },
    {
      "cell_type": "markdown",
      "metadata": {
        "id": "xpP5ZWYeMyxd"
      },
      "source": [
        "# Looking at two variables\n",
        "We have been making plots with one variable at a time. Now let's plot two variables!"
      ]
    },
    {
      "cell_type": "markdown",
      "metadata": {
        "id": "AoQ5KQxskgsG"
      },
      "source": [
        "## Two continuous variables\n",
        "When we are interested in two continuous variables, we can make a scatter plot.\n",
        "\n",
        "Here's a difference to our single variables, we are now specifiying both an 'x' and a 'y' value in the aesthetics mapping function, `aes()`. With geom_smooth() I add a trendline to the figure."
      ]
    },
    {
      "cell_type": "code",
      "metadata": {
        "id": "9hOm8uevBHR9"
      },
      "source": [
        "# Displaying Scatterplot with 2 variables\n",
        "(ggplot(data=Pat_data) +\n",
        " aes(x='AGE', y='ICV') +\n",
        " geom_point() +\n",
        " geom_smooth(method = 'lm', colour=\"red\")+\n",
        "  labs(y = \"Intracranial Volume\")\n",
        " )"
      ],
      "execution_count": null,
      "outputs": []
    },
    {
      "cell_type": "markdown",
      "metadata": {
        "id": "wNMzhiqtJbIl"
      },
      "source": [
        "In this chunk of code, we create a linear model by adding `method = 'lm'`.\n",
        "\n",
        "This fits a line even if there is not much evidence that the line is meaningful. In this case, the line goes up slightly. This suggests that brains grow as we get older. However, it is likely that the slope of the line is not significantly different from 0.\n",
        "\n",
        "\n"
      ]
    },
    {
      "cell_type": "markdown",
      "metadata": {
        "id": "YRoawvF1BHxb"
      },
      "source": [
        "## Task 3: Plotting two variables!\n",
        "\n",
        "Plot the volumes of the different parts of the brain against each other. For example Ventricles vs Hippocampus or Midterm vs Fusiform. Which brain parts are most strongly correlated with each other (just from eye-balling the plots?)."
      ]
    },
    {
      "cell_type": "code",
      "source": [
        "#Make several plots and write a few sentences to share your interpretation."
      ],
      "metadata": {
        "id": "ly7EYI8ND62v"
      },
      "execution_count": null,
      "outputs": []
    },
    {
      "cell_type": "markdown",
      "metadata": {
        "id": "jDQeZjeNkGQL"
      },
      "source": [
        "[Correlation coefficients](https://www.statisticshowto.com/probability-and-statistics/correlation-coefficient-formula/) are used to measure how strong a relationship is between two variables. There are several types of correlation coefficient such as Pearson, Kendall, and Spearman (the most common used is Pearson’s).\n",
        "\n",
        "\n",
        "![pearson-2-small.png](https://drive.google.com/uc?export=view&id=1u-ANH6bqw7u0Xqvv49pu9wp_zgOCuQ-5)\n",
        "\n",
        "(image from https://www.statisticshowto.com/probability-and-statistics/correlation-coefficient-formula/)\n",
        "\n",
        "The formulas return a value between -1 and 1, where:\n",
        "*   1 indicates a strong positive relationship\n",
        "*   -1 indicates a strong negative relationship\n",
        "*   0 indicates no relationship at all\n",
        "\n",
        "If you want to quantify the correlation with every column in the dataframe, you can use the `corr()` function. Notice that the main diagonal is full of 1.00. This makes sense because a correlation of a variable with itself is perfect."
      ]
    },
    {
      "cell_type": "code",
      "source": [
        "# Select only numeric columns before calculating correlation\n",
        "numeric_data = Pat_data.select_dtypes(include=['number'])\n",
        "correlation_matrix = numeric_data.corr(method='pearson')\n",
        "correlation_matrix"
      ],
      "metadata": {
        "id": "YzJBII_uEqhg"
      },
      "execution_count": null,
      "outputs": []
    },
    {
      "cell_type": "markdown",
      "metadata": {
        "id": "9vbo0LWujNfs"
      },
      "source": [
        "If you want to quantify the correlation between two continuous variables, you can use the `corr()` function and specify the two columns like this."
      ]
    },
    {
      "cell_type": "code",
      "metadata": {
        "id": "bO_xAOWpM393"
      },
      "source": [
        "# Checking the correlation between 2 specific variables\n",
        "Pat_data['Ventricles'].corr(Pat_data['Hippocampus'], method ='pearson')"
      ],
      "execution_count": null,
      "outputs": []
    },
    {
      "cell_type": "markdown",
      "metadata": {
        "id": "rXlkLdkjkpcm"
      },
      "source": [
        "## One discrete, one continuous variable\n",
        "For this data, we're going to use a few different plot types you may not have used before!\n",
        "\n",
        "When we are interested in a continuous and a discrete variable, we can make a box-plot or a violin plot. These plots show the range of values of the continuous variable for each category of the discrete variable. **Boxplots** are informative and allow you to quickly check their medians, quantiles, variances and even outlier observations within each group, in other words it gives you and overview of what possible differences lie for each category.\n",
        "\n"
      ]
    },
    {
      "cell_type": "code",
      "metadata": {
        "id": "zBhZD9GUcnD7"
      },
      "source": [
        "# Creating a boxplot for ICV and Diagnosis\n",
        "(ggplot(data=Pat_data) +\n",
        " aes(x='DX', y='ICV') +\n",
        " geom_boxplot() +\n",
        " theme(axis_text_x=element_text(rotation=90, hjust=1))\n",
        " )"
      ],
      "execution_count": null,
      "outputs": []
    },
    {
      "cell_type": "markdown",
      "source": [
        "Another interesting plot to look at is the **Violin plot**, this elegant looking plot is read by partitioning each violin into half, this essentially shows you the distribution of that particular categorical variable. A nice thing about the violin plot is that it shows the information of all the data not just the quartiles and medians."
      ],
      "metadata": {
        "id": "rLYXUphPghXq"
      }
    },
    {
      "cell_type": "code",
      "metadata": {
        "id": "T_gEIjUncrdf"
      },
      "source": [
        "# Creating violin plots for ICV and Diagnosis\n",
        "(ggplot(data=Pat_data) +\n",
        " aes(x='DX', y='ICV') +\n",
        " geom_violin() +\n",
        " theme(axis_text_x=element_text(rotation=90, hjust=1))\n",
        " )"
      ],
      "execution_count": null,
      "outputs": []
    },
    {
      "cell_type": "markdown",
      "source": [
        "Yet a third plot that looks similar to the violin plot is the **Dotplot**. The dot plot shows us a similar graph than the violin plot except we can actually see each data point, values that are recurrent show us the wider parts of the violin plot."
      ],
      "metadata": {
        "id": "UI995V-AiWNk"
      }
    },
    {
      "cell_type": "code",
      "metadata": {
        "id": "ejiytnRGc4KO"
      },
      "source": [
        "# The dotplot for ICV and Diagnosis\n",
        "(ggplot(data=Pat_data) +\n",
        " aes(x='DX', y='ICV') +\n",
        " geom_dotplot(binaxis = 'y',\n",
        "               stackdir = 'center',\n",
        "               alpha = 0.2,\n",
        "               stackratio = 0.2,\n",
        "               color='blue',\n",
        "               bins = 45) +\n",
        " theme(axis_text_x=element_text(rotation=90, hjust=1))\n",
        " )"
      ],
      "execution_count": null,
      "outputs": []
    },
    {
      "cell_type": "markdown",
      "metadata": {
        "id": "5xQeoYO1durF"
      },
      "source": [
        "## Focus on main three DX categories\n",
        "\n",
        "Lets simplify the data by only keeping the 3 main DX groups. Notice that you can make all sorts of customizations to these plots, such as color of the data points, their size, etc.\n"
      ]
    },
    {
      "cell_type": "code",
      "metadata": {
        "id": "TBRxt8rOe9Cs"
      },
      "source": [
        "# Dropping all intermediate diagnosis\n",
        "PatDataSimple = Pat_data[Pat_data.DX.isin([\"Dementia\", \"MCI\", \"NL\"])]\n",
        "PatDataSimple = PatDataSimple.dropna()"
      ],
      "execution_count": null,
      "outputs": []
    },
    {
      "cell_type": "code",
      "metadata": {
        "id": "b95MT890ZLs7"
      },
      "source": [
        "# Creating Dot plot for only the main diagnosis\n",
        "(ggplot(data=PatDataSimple) +\n",
        " aes(x='DX', y='ICV') +\n",
        " geom_dotplot(binaxis = 'y',\n",
        "              stackdir = 'center',\n",
        "              alpha = 0.3,\n",
        "              stackratio = 0.2,\n",
        "              fill=\"pink\",\n",
        "              color = \"blue\",\n",
        "              bins = 30) +\n",
        " theme(axis_text_x=element_text(rotation=90, hjust=1))\n",
        " )"
      ],
      "execution_count": null,
      "outputs": []
    },
    {
      "cell_type": "markdown",
      "metadata": {
        "id": "Z8t9SwGWa0KI"
      },
      "source": [
        "# Three variables\n",
        "One of the first things that happens in Alzheimer’s patients is that plaques destroy the hippocampus. Therefore lets look at the size of the hippocampus for the three main diagnosis categories by age.\n",
        "\n",
        "What you can see here is that an AD patient at age 60 has (on average) the hippocampus size of a cognitive normal person at age 90."
      ]
    },
    {
      "cell_type": "code",
      "metadata": {
        "id": "UUKMjG2pazTE"
      },
      "source": [
        "# Plotting 3 separate scatterplots\n",
        "(ggplot(data=PatDataSimple) +\n",
        " aes(x='AGE', y='Hippocampus') +\n",
        " geom_smooth(method = 'lm')+\n",
        " geom_point(alpha = 0.2, color=\"red\") +\n",
        " facet_grid('. ~ DX')\n",
        " )"
      ],
      "execution_count": null,
      "outputs": []
    },
    {
      "cell_type": "markdown",
      "metadata": {
        "id": "myywJ61x9QDH"
      },
      "source": [
        "We can also include all three diagnosis categories in one plot. This way we truly have three variables in one plot:\n",
        "1. AGE (X axis)\n",
        "2. DX (Colors in legend)\n",
        "3. Hippocampus (Y Axis)\n",
        "\n"
      ]
    },
    {
      "cell_type": "code",
      "metadata": {
        "id": "qUWjyKPx9QUo"
      },
      "source": [
        "# Plotting all three scatterplots in the same figure\n",
        "(ggplot(data=PatDataSimple) +\n",
        " aes(x='AGE', y='Hippocampus', color='DX') +\n",
        " geom_smooth(method = \"lm\") +\n",
        " geom_point(alpha = 0.5)\n",
        " )"
      ],
      "execution_count": null,
      "outputs": []
    },
    {
      "cell_type": "markdown",
      "metadata": {
        "id": "VuK9r5x0aWUy"
      },
      "source": [
        "## Task 4: Comparing analyses\n",
        "\n",
        "Which option do you think is better? Having 3 plots next to each other or one plot with three lines?"
      ]
    },
    {
      "cell_type": "markdown",
      "source": [
        "Write your answer here. Come up with at least two reasons why one option is better and two reasons why the other option is better."
      ],
      "metadata": {
        "id": "6cf7wQIFFyZ-"
      }
    },
    {
      "cell_type": "markdown",
      "metadata": {
        "id": "mDnG803NasNK"
      },
      "source": [
        "# [Optional] Final Task 5: your turn!\n",
        "# This is work that should be done in a group.\n",
        "\n",
        "Before you start coding, work with your team (or one of your team mates) to come up with a hypothesis that you can test.\n",
        "\n",
        "Share your hypothesis and one or two plots that support or refute your hypothesis.\n",
        "\n",
        "As always, let us know if you have any questions!\n",
        "\n",
        "These are options – if you choose one of those, you still have to come up with a hypothesis.\n",
        "\n",
        "1. Have a look at the effect of APOE4. Make one-variable, two-variable and three-variable plots including APOE4.\n",
        "\n",
        "The variable in the dataset records the number of APOE4 alleles someone has (0, 1, or 2).\n",
        "\n",
        "https://www.nia.nih.gov/health/alzheimers-disease-genetics-fact-sheet\n",
        "\n",
        "APOE ε4 increases risk for Alzheimer's disease and is also associated with an earlier age of disease onset. Having one or two APOE ε4 alleles increases the risk of developing Alzheimer's. About 25 percent of people carry one copy of APOE ɛ4, and 2 to 3 percent carry two copies.\n",
        "\n",
        "2. Analyse the effect of education. Make one-variable, two-variable and three-variable plots including education.\n",
        "\n",
        "**Tip:** you can use the cut() function to make educational level into a categorical variable. See below.\n",
        "\n",
        "\n"
      ]
    },
    {
      "cell_type": "markdown",
      "source": [
        "## Some code that may be useful for analysing education level."
      ],
      "metadata": {
        "id": "lCnHRQ3UGqxc"
      }
    },
    {
      "cell_type": "code",
      "source": [
        "# take a look at this numerical variable\n",
        "print(PatDataSimple['PTEDUCAT'].unique())"
      ],
      "metadata": {
        "id": "wfkxw96vEZwN"
      },
      "execution_count": null,
      "outputs": []
    },
    {
      "cell_type": "markdown",
      "source": [
        "If you want to, you can bin a numerical variable to a small number of meaningful catergories.\n",
        "\n",
        "Below in the bins argument of our function: We are going to establish that from 0 to 12 (Less than high school), 12 to 16 (At Least highschool) and 16 to 20 (At least 4-year college). This will also mantain its ordinal nature as you can see in the final code chunk."
      ],
      "metadata": {
        "id": "0YbWDw9RFM8W"
      }
    },
    {
      "cell_type": "code",
      "metadata": {
        "id": "F3QAnqyfbV4p"
      },
      "source": [
        "# Example of using the Cut function to convert a numerical variable into  a categorical one\n",
        "PatDataSimple.loc[:,'PTEDUCAT'] = pd.cut(PatDataSimple.loc[:,'PTEDUCAT'],\n",
        "                         bins= [0,12,16,20],\n",
        "                         labels=[\"Less than highschool\",'At least highschool', 'At least 4-year college'])\n"
      ],
      "execution_count": null,
      "outputs": []
    },
    {
      "cell_type": "code",
      "source": [
        "# Printing Categorical variable labels created\n",
        "print(PatDataSimple['PTEDUCAT'].unique())"
      ],
      "metadata": {
        "id": "Pa5E_zLiH67H"
      },
      "execution_count": null,
      "outputs": []
    },
    {
      "cell_type": "markdown",
      "source": [
        "## Answer"
      ],
      "metadata": {
        "id": "JhP-reihvcp9"
      }
    }
  ]
}